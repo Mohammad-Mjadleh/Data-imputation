{
  "nbformat": 4,
  "nbformat_minor": 0,
  "metadata": {
    "colab": {
      "provenance": []
    },
    "kernelspec": {
      "name": "python3",
      "display_name": "Python 3"
    },
    "language_info": {
      "name": "python"
    }
  },
  "cells": [
    {
      "cell_type": "markdown",
      "source": [
        "# import"
      ],
      "metadata": {
        "id": "BxucUR-P2_Ca"
      }
    },
    {
      "cell_type": "code",
      "source": [
        "import pandas as pd\n",
        "import matplotlib.pylab as plt\n",
        "import seaborn as sns\n",
        "import numpy as np\n",
        "import random\n",
        "import warnings\n",
        "import io\n",
        "from sklearn.preprocessing import StandardScaler\n",
        "from sklearn.cluster import KMeans\n",
        "from sklearn.model_selection import train_test_split\n",
        "\n",
        "warnings.filterwarnings('ignore')"
      ],
      "metadata": {
        "id": "UmDPjdzk3DjL"
      },
      "execution_count": null,
      "outputs": []
    },
    {
      "cell_type": "markdown",
      "source": [
        "Reading the Data from File "
      ],
      "metadata": {
        "id": "6ksyf1JSVwsr"
      }
    },
    {
      "cell_type": "code",
      "source": [
        "from google.colab import files\n",
        "uploaded = files.upload()"
      ],
      "metadata": {
        "colab": {
          "base_uri": "https://localhost:8080/",
          "height": 73
        },
        "id": "KFIR8tjP0_Cu",
        "outputId": "b77782b7-397f-45db-ffcb-276d1f1046e7"
      },
      "execution_count": null,
      "outputs": [
        {
          "output_type": "display_data",
          "data": {
            "text/plain": [
              "<IPython.core.display.HTML object>"
            ],
            "text/html": [
              "\n",
              "     <input type=\"file\" id=\"files-ee4a58a7-9054-41bd-89fa-8fd1a2fa6fdc\" name=\"files[]\" multiple disabled\n",
              "        style=\"border:none\" />\n",
              "     <output id=\"result-ee4a58a7-9054-41bd-89fa-8fd1a2fa6fdc\">\n",
              "      Upload widget is only available when the cell has been executed in the\n",
              "      current browser session. Please rerun this cell to enable.\n",
              "      </output>\n",
              "      <script>// Copyright 2017 Google LLC\n",
              "//\n",
              "// Licensed under the Apache License, Version 2.0 (the \"License\");\n",
              "// you may not use this file except in compliance with the License.\n",
              "// You may obtain a copy of the License at\n",
              "//\n",
              "//      http://www.apache.org/licenses/LICENSE-2.0\n",
              "//\n",
              "// Unless required by applicable law or agreed to in writing, software\n",
              "// distributed under the License is distributed on an \"AS IS\" BASIS,\n",
              "// WITHOUT WARRANTIES OR CONDITIONS OF ANY KIND, either express or implied.\n",
              "// See the License for the specific language governing permissions and\n",
              "// limitations under the License.\n",
              "\n",
              "/**\n",
              " * @fileoverview Helpers for google.colab Python module.\n",
              " */\n",
              "(function(scope) {\n",
              "function span(text, styleAttributes = {}) {\n",
              "  const element = document.createElement('span');\n",
              "  element.textContent = text;\n",
              "  for (const key of Object.keys(styleAttributes)) {\n",
              "    element.style[key] = styleAttributes[key];\n",
              "  }\n",
              "  return element;\n",
              "}\n",
              "\n",
              "// Max number of bytes which will be uploaded at a time.\n",
              "const MAX_PAYLOAD_SIZE = 100 * 1024;\n",
              "\n",
              "function _uploadFiles(inputId, outputId) {\n",
              "  const steps = uploadFilesStep(inputId, outputId);\n",
              "  const outputElement = document.getElementById(outputId);\n",
              "  // Cache steps on the outputElement to make it available for the next call\n",
              "  // to uploadFilesContinue from Python.\n",
              "  outputElement.steps = steps;\n",
              "\n",
              "  return _uploadFilesContinue(outputId);\n",
              "}\n",
              "\n",
              "// This is roughly an async generator (not supported in the browser yet),\n",
              "// where there are multiple asynchronous steps and the Python side is going\n",
              "// to poll for completion of each step.\n",
              "// This uses a Promise to block the python side on completion of each step,\n",
              "// then passes the result of the previous step as the input to the next step.\n",
              "function _uploadFilesContinue(outputId) {\n",
              "  const outputElement = document.getElementById(outputId);\n",
              "  const steps = outputElement.steps;\n",
              "\n",
              "  const next = steps.next(outputElement.lastPromiseValue);\n",
              "  return Promise.resolve(next.value.promise).then((value) => {\n",
              "    // Cache the last promise value to make it available to the next\n",
              "    // step of the generator.\n",
              "    outputElement.lastPromiseValue = value;\n",
              "    return next.value.response;\n",
              "  });\n",
              "}\n",
              "\n",
              "/**\n",
              " * Generator function which is called between each async step of the upload\n",
              " * process.\n",
              " * @param {string} inputId Element ID of the input file picker element.\n",
              " * @param {string} outputId Element ID of the output display.\n",
              " * @return {!Iterable<!Object>} Iterable of next steps.\n",
              " */\n",
              "function* uploadFilesStep(inputId, outputId) {\n",
              "  const inputElement = document.getElementById(inputId);\n",
              "  inputElement.disabled = false;\n",
              "\n",
              "  const outputElement = document.getElementById(outputId);\n",
              "  outputElement.innerHTML = '';\n",
              "\n",
              "  const pickedPromise = new Promise((resolve) => {\n",
              "    inputElement.addEventListener('change', (e) => {\n",
              "      resolve(e.target.files);\n",
              "    });\n",
              "  });\n",
              "\n",
              "  const cancel = document.createElement('button');\n",
              "  inputElement.parentElement.appendChild(cancel);\n",
              "  cancel.textContent = 'Cancel upload';\n",
              "  const cancelPromise = new Promise((resolve) => {\n",
              "    cancel.onclick = () => {\n",
              "      resolve(null);\n",
              "    };\n",
              "  });\n",
              "\n",
              "  // Wait for the user to pick the files.\n",
              "  const files = yield {\n",
              "    promise: Promise.race([pickedPromise, cancelPromise]),\n",
              "    response: {\n",
              "      action: 'starting',\n",
              "    }\n",
              "  };\n",
              "\n",
              "  cancel.remove();\n",
              "\n",
              "  // Disable the input element since further picks are not allowed.\n",
              "  inputElement.disabled = true;\n",
              "\n",
              "  if (!files) {\n",
              "    return {\n",
              "      response: {\n",
              "        action: 'complete',\n",
              "      }\n",
              "    };\n",
              "  }\n",
              "\n",
              "  for (const file of files) {\n",
              "    const li = document.createElement('li');\n",
              "    li.append(span(file.name, {fontWeight: 'bold'}));\n",
              "    li.append(span(\n",
              "        `(${file.type || 'n/a'}) - ${file.size} bytes, ` +\n",
              "        `last modified: ${\n",
              "            file.lastModifiedDate ? file.lastModifiedDate.toLocaleDateString() :\n",
              "                                    'n/a'} - `));\n",
              "    const percent = span('0% done');\n",
              "    li.appendChild(percent);\n",
              "\n",
              "    outputElement.appendChild(li);\n",
              "\n",
              "    const fileDataPromise = new Promise((resolve) => {\n",
              "      const reader = new FileReader();\n",
              "      reader.onload = (e) => {\n",
              "        resolve(e.target.result);\n",
              "      };\n",
              "      reader.readAsArrayBuffer(file);\n",
              "    });\n",
              "    // Wait for the data to be ready.\n",
              "    let fileData = yield {\n",
              "      promise: fileDataPromise,\n",
              "      response: {\n",
              "        action: 'continue',\n",
              "      }\n",
              "    };\n",
              "\n",
              "    // Use a chunked sending to avoid message size limits. See b/62115660.\n",
              "    let position = 0;\n",
              "    do {\n",
              "      const length = Math.min(fileData.byteLength - position, MAX_PAYLOAD_SIZE);\n",
              "      const chunk = new Uint8Array(fileData, position, length);\n",
              "      position += length;\n",
              "\n",
              "      const base64 = btoa(String.fromCharCode.apply(null, chunk));\n",
              "      yield {\n",
              "        response: {\n",
              "          action: 'append',\n",
              "          file: file.name,\n",
              "          data: base64,\n",
              "        },\n",
              "      };\n",
              "\n",
              "      let percentDone = fileData.byteLength === 0 ?\n",
              "          100 :\n",
              "          Math.round((position / fileData.byteLength) * 100);\n",
              "      percent.textContent = `${percentDone}% done`;\n",
              "\n",
              "    } while (position < fileData.byteLength);\n",
              "  }\n",
              "\n",
              "  // All done.\n",
              "  yield {\n",
              "    response: {\n",
              "      action: 'complete',\n",
              "    }\n",
              "  };\n",
              "}\n",
              "\n",
              "scope.google = scope.google || {};\n",
              "scope.google.colab = scope.google.colab || {};\n",
              "scope.google.colab._files = {\n",
              "  _uploadFiles,\n",
              "  _uploadFilesContinue,\n",
              "};\n",
              "})(self);\n",
              "</script> "
            ]
          },
          "metadata": {}
        },
        {
          "output_type": "stream",
          "name": "stdout",
          "text": [
            "Saving train.csv to train.csv\n"
          ]
        }
      ]
    },
    {
      "cell_type": "markdown",
      "source": [
        "# preprocessing "
      ],
      "metadata": {
        "id": "RNFOHM8P1aJS"
      }
    },
    {
      "cell_type": "code",
      "source": [
        "df = pd.read_csv(io.BytesIO(uploaded['train.csv']),  encoding = 'iso-8859-8' , header= 0)\n"
      ],
      "metadata": {
        "id": "AzBkKkz8kURN"
      },
      "execution_count": null,
      "outputs": []
    },
    {
      "cell_type": "markdown",
      "source": [
        "A. Recognizing and Understanding Data"
      ],
      "metadata": {
        "id": "fDr4-M1MV2TU"
      }
    },
    {
      "cell_type": "markdown",
      "source": [
        "Detect strange values apart from the NaN Values\n"
      ],
      "metadata": {
        "id": "Y-yDYBDvWSTG"
      }
    },
    {
      "cell_type": "code",
      "source": [
        "object_col = df.describe(include='O').columns\n",
        "for col in object_col:\n",
        "    print('Column Name: '+col)\n",
        "    print(\"**\"*20)\n",
        "    print(df[col].value_counts(dropna=False))\n",
        "    print('END', \"--\"*18, '\\n')"
      ],
      "metadata": {
        "id": "GWzZ93-UWWWU",
        "colab": {
          "base_uri": "https://localhost:8080/"
        },
        "outputId": "048a67ab-afc9-453c-bad2-b2cca060b132"
      },
      "execution_count": null,
      "outputs": [
        {
          "output_type": "stream",
          "name": "stdout",
          "text": [
            "Column Name: ID\n",
            "****************************************\n",
            "0x1602     1\n",
            "0x19c88    1\n",
            "0x19caa    1\n",
            "0x19ca5    1\n",
            "0x19ca4    1\n",
            "          ..\n",
            "0xd94d     1\n",
            "0xd94c     1\n",
            "0xd94b     1\n",
            "0xd94a     1\n",
            "0x25fed    1\n",
            "Name: ID, Length: 100000, dtype: int64\n",
            "END ------------------------------------ \n",
            "\n",
            "Column Name: Customer_ID\n",
            "****************************************\n",
            "CUS_0xd40     8\n",
            "CUS_0x9bf4    8\n",
            "CUS_0x5ae3    8\n",
            "CUS_0xbe9a    8\n",
            "CUS_0x4874    8\n",
            "             ..\n",
            "CUS_0x2eb4    8\n",
            "CUS_0x7863    8\n",
            "CUS_0x9d89    8\n",
            "CUS_0xc045    8\n",
            "CUS_0x942c    8\n",
            "Name: Customer_ID, Length: 12500, dtype: int64\n",
            "END ------------------------------------ \n",
            "\n",
            "Column Name: Month\n",
            "****************************************\n",
            "January     12500\n",
            "February    12500\n",
            "March       12500\n",
            "April       12500\n",
            "May         12500\n",
            "June        12500\n",
            "July        12500\n",
            "August      12500\n",
            "Name: Month, dtype: int64\n",
            "END ------------------------------------ \n",
            "\n",
            "Column Name: Name\n",
            "****************************************\n",
            "NaN               9985\n",
            "Stevex              44\n",
            "Langep              44\n",
            "Jessicad            39\n",
            "Vaughanl            39\n",
            "                  ... \n",
            "Robin Pomeroyz       4\n",
            "Matt Scuffhamk       4\n",
            "Julieno              4\n",
            "Bavierq              4\n",
            "Timothyl             3\n",
            "Name: Name, Length: 10140, dtype: int64\n",
            "END ------------------------------------ \n",
            "\n",
            "Column Name: Age\n",
            "****************************************\n",
            "38      2833\n",
            "28      2829\n",
            "31      2806\n",
            "26      2792\n",
            "32      2749\n",
            "        ... \n",
            "471        1\n",
            "1520       1\n",
            "8663       1\n",
            "3363       1\n",
            "1342       1\n",
            "Name: Age, Length: 1788, dtype: int64\n",
            "END ------------------------------------ \n",
            "\n",
            "Column Name: SSN\n",
            "****************************************\n",
            "#F%$D@*&8      5572\n",
            "078-73-5990       8\n",
            "486-78-3816       8\n",
            "750-67-7525       8\n",
            "903-50-0305       8\n",
            "               ... \n",
            "856-06-6147       4\n",
            "753-72-2651       4\n",
            "331-28-1921       4\n",
            "604-62-6133       4\n",
            "286-44-9634       4\n",
            "Name: SSN, Length: 12501, dtype: int64\n",
            "END ------------------------------------ \n",
            "\n",
            "Column Name: Occupation\n",
            "****************************************\n",
            "_______          7062\n",
            "Lawyer           6575\n",
            "Architect        6355\n",
            "Engineer         6350\n",
            "Scientist        6299\n",
            "Mechanic         6291\n",
            "Accountant       6271\n",
            "Developer        6235\n",
            "Media_Manager    6232\n",
            "Teacher          6215\n",
            "Entrepreneur     6174\n",
            "Doctor           6087\n",
            "Journalist       6085\n",
            "Manager          5973\n",
            "Musician         5911\n",
            "Writer           5885\n",
            "Name: Occupation, dtype: int64\n",
            "END ------------------------------------ \n",
            "\n",
            "Column Name: Annual_Income\n",
            "****************************************\n",
            "36585.12     16\n",
            "20867.67     16\n",
            "17273.83     16\n",
            "9141.63      15\n",
            "33029.66     15\n",
            "             ..\n",
            "20269.93_     1\n",
            "15157.25_     1\n",
            "44955.64_     1\n",
            "76650.12_     1\n",
            "4262933.0     1\n",
            "Name: Annual_Income, Length: 18940, dtype: int64\n",
            "END ------------------------------------ \n",
            "\n",
            "Column Name: Num_of_Loan\n",
            "****************************************\n",
            "3        14386\n",
            "2        14250\n",
            "4        14016\n",
            "0        10380\n",
            "1        10083\n",
            "         ...  \n",
            "1320_        1\n",
            "103          1\n",
            "1444         1\n",
            "392          1\n",
            "966          1\n",
            "Name: Num_of_Loan, Length: 434, dtype: int64\n",
            "END ------------------------------------ \n",
            "\n",
            "Column Name: Type_of_Loan\n",
            "****************************************\n",
            "NaN                                                                                                                                   11408\n",
            "Not Specified                                                                                                                          1408\n",
            "Credit-Builder Loan                                                                                                                    1280\n",
            "Personal Loan                                                                                                                          1272\n",
            "Debt Consolidation Loan                                                                                                                1264\n",
            "                                                                                                                                      ...  \n",
            "Not Specified, Mortgage Loan, Auto Loan, and Payday Loan                                                                                  8\n",
            "Payday Loan, Mortgage Loan, Debt Consolidation Loan, and Student Loan                                                                     8\n",
            "Debt Consolidation Loan, Auto Loan, Personal Loan, Debt Consolidation Loan, Student Loan, and Credit-Builder Loan                         8\n",
            "Student Loan, Auto Loan, Student Loan, Credit-Builder Loan, Home Equity Loan, Debt Consolidation Loan, and Debt Consolidation Loan        8\n",
            "Personal Loan, Auto Loan, Mortgage Loan, Student Loan, and Student Loan                                                                   8\n",
            "Name: Type_of_Loan, Length: 6261, dtype: int64\n",
            "END ------------------------------------ \n",
            "\n",
            "Column Name: Num_of_Delayed_Payment\n",
            "****************************************\n",
            "NaN     7002\n",
            "19      5327\n",
            "17      5261\n",
            "16      5173\n",
            "10      5153\n",
            "        ... \n",
            "848_       1\n",
            "4134       1\n",
            "1530       1\n",
            "1502       1\n",
            "2047       1\n",
            "Name: Num_of_Delayed_Payment, Length: 750, dtype: int64\n",
            "END ------------------------------------ \n",
            "\n",
            "Column Name: Changed_Credit_Limit\n",
            "****************************************\n",
            "_                     2091\n",
            "8.22                   133\n",
            "11.5                   127\n",
            "11.32                  126\n",
            "7.35                   121\n",
            "                      ... \n",
            "-1.84                    1\n",
            "0.8899999999999999       1\n",
            "28.06                    1\n",
            "1.5599999999999996       1\n",
            "21.17                    1\n",
            "Name: Changed_Credit_Limit, Length: 4384, dtype: int64\n",
            "END ------------------------------------ \n",
            "\n",
            "Column Name: Credit_Mix\n",
            "****************************************\n",
            "Standard    36479\n",
            "Good        24337\n",
            "_           20195\n",
            "Bad         18989\n",
            "Name: Credit_Mix, dtype: int64\n",
            "END ------------------------------------ \n",
            "\n",
            "Column Name: Outstanding_Debt\n",
            "****************************************\n",
            "1360.45     24\n",
            "460.46      23\n",
            "1151.7      23\n",
            "1109.03     23\n",
            "467.7       16\n",
            "            ..\n",
            "245.46_      1\n",
            "645.77_      1\n",
            "174.79_      1\n",
            "1181.13_     1\n",
            "1013.53_     1\n",
            "Name: Outstanding_Debt, Length: 13178, dtype: int64\n",
            "END ------------------------------------ \n",
            "\n",
            "Column Name: Credit_History_Age\n",
            "****************************************\n",
            "NaN                       9030\n",
            "15 Years and 11 Months     446\n",
            "19 Years and 4 Months      445\n",
            "19 Years and 5 Months      444\n",
            "17 Years and 11 Months     443\n",
            "                          ... \n",
            "0 Years and 3 Months        20\n",
            "0 Years and 2 Months        15\n",
            "33 Years and 7 Months       14\n",
            "33 Years and 8 Months       12\n",
            "0 Years and 1 Months         2\n",
            "Name: Credit_History_Age, Length: 405, dtype: int64\n",
            "END ------------------------------------ \n",
            "\n",
            "Column Name: Payment_of_Min_Amount\n",
            "****************************************\n",
            "Yes    52326\n",
            "No     35667\n",
            "NM     12007\n",
            "Name: Payment_of_Min_Amount, dtype: int64\n",
            "END ------------------------------------ \n",
            "\n",
            "Column Name: Amount_invested_monthly\n",
            "****************************************\n",
            "NaN                   4479\n",
            "__10000__             4305\n",
            "0.0                    169\n",
            "36.66235139442514        1\n",
            "89.7384893604547         1\n",
            "                      ... \n",
            "36.541908593249026       1\n",
            "93.45116318631192        1\n",
            "140.80972223052834       1\n",
            "38.73937670100975        1\n",
            "167.1638651610451        1\n",
            "Name: Amount_invested_monthly, Length: 91050, dtype: int64\n",
            "END ------------------------------------ \n",
            "\n",
            "Column Name: Payment_Behaviour\n",
            "****************************************\n",
            "Low_spent_Small_value_payments      25513\n",
            "High_spent_Medium_value_payments    17540\n",
            "Low_spent_Medium_value_payments     13861\n",
            "High_spent_Large_value_payments     13721\n",
            "High_spent_Small_value_payments     11340\n",
            "Low_spent_Large_value_payments      10425\n",
            "!@9#%8                               7600\n",
            "Name: Payment_Behaviour, dtype: int64\n",
            "END ------------------------------------ \n",
            "\n",
            "Column Name: Monthly_Balance\n",
            "****************************************\n",
            "NaN                                 1200\n",
            "__-333333333333333333333333333__       9\n",
            "312.49408867943663                     1\n",
            "347.413889978152                       1\n",
            "254.9709216273975                      1\n",
            "                                    ... \n",
            "366.2890379762706                      1\n",
            "151.1882696261166                      1\n",
            "306.75027851710234                     1\n",
            "278.8720257394474                      1\n",
            "393.6736955618808                      1\n",
            "Name: Monthly_Balance, Length: 98793, dtype: int64\n",
            "END ------------------------------------ \n",
            "\n",
            "Column Name: Credit_Score\n",
            "****************************************\n",
            "Standard    53174\n",
            "Poor        28998\n",
            "Good        17828\n",
            "Name: Credit_Score, dtype: int64\n",
            "END ------------------------------------ \n",
            "\n"
          ]
        }
      ]
    },
    {
      "cell_type": "markdown",
      "source": [
        "Clear strange values apart from the NaN Values\n"
      ],
      "metadata": {
        "id": "Dj6nf7ihWhw6"
      }
    },
    {
      "cell_type": "code",
      "source": [
        "df = df.applymap(lambda x: x if x is np.NaN or not isinstance(x, str) else str(x).strip('_ ,\"')).replace(['', 'nan', '!@9#%8', '#F%$D@*&8'], np.NaN)"
      ],
      "metadata": {
        "id": "iflpAetapfkN"
      },
      "execution_count": null,
      "outputs": []
    },
    {
      "cell_type": "markdown",
      "source": [
        "C. Fixing a data type (value_counts(), astype(), infer_objects(), convert_dtypes())"
      ],
      "metadata": {
        "id": "fBV_FcqHWnr4"
      }
    },
    {
      "cell_type": "markdown",
      "source": [
        "Detect strange values by Columns Convert Object Types to Numeric Types (int, float, np.int64, pd.Int64Dtype())\n",
        "Combining object columns"
      ],
      "metadata": {
        "id": "ks2DFGNgWv4B"
      }
    },
    {
      "cell_type": "code",
      "source": [
        "df['ID'] = df.ID.apply(lambda x: int(x, 16))\n"
      ],
      "metadata": {
        "id": "OneGra3JqPBL"
      },
      "execution_count": null,
      "outputs": []
    },
    {
      "cell_type": "code",
      "source": [
        "df['Customer_ID'] = df.Customer_ID.apply(lambda x: int(x[4:], 16))"
      ],
      "metadata": {
        "id": "yjlx_MGgqPyf"
      },
      "execution_count": null,
      "outputs": []
    },
    {
      "cell_type": "code",
      "source": [
        "df['Month'] = pd.to_datetime(df.Month, format='%B').dt.month"
      ],
      "metadata": {
        "id": "LL45r-RGqQfM"
      },
      "execution_count": null,
      "outputs": []
    },
    {
      "cell_type": "code",
      "source": [
        "df['Age'] = df.Age.astype(int)  "
      ],
      "metadata": {
        "id": "5RRg541iqYP9"
      },
      "execution_count": null,
      "outputs": []
    },
    {
      "cell_type": "code",
      "source": [
        "df['SSN'] = df.SSN.apply(lambda x: x if x is np.NaN else int(str(x).replace('-', ''))).astype(float)"
      ],
      "metadata": {
        "id": "ATGiAi8zqjvg"
      },
      "execution_count": null,
      "outputs": []
    },
    {
      "cell_type": "code",
      "source": [
        "df['Annual_Income'] = df.Annual_Income.astype(float)\n"
      ],
      "metadata": {
        "id": "a3CkpgPfqpqb"
      },
      "execution_count": null,
      "outputs": []
    },
    {
      "cell_type": "code",
      "source": [
        "df['Num_of_Loan'] = df.Num_of_Loan.astype(int) \n"
      ],
      "metadata": {
        "id": "Lcg6KinUqu25"
      },
      "execution_count": null,
      "outputs": []
    },
    {
      "cell_type": "code",
      "source": [
        "df['Num_of_Delayed_Payment'] = df.Num_of_Delayed_Payment.astype(float)"
      ],
      "metadata": {
        "id": "GiX07NJFqv04"
      },
      "execution_count": null,
      "outputs": []
    },
    {
      "cell_type": "code",
      "source": [
        "df['Changed_Credit_Limit'] = df.Changed_Credit_Limit.astype(float)"
      ],
      "metadata": {
        "id": "-1onW7-Vqypt"
      },
      "execution_count": null,
      "outputs": []
    },
    {
      "cell_type": "code",
      "source": [
        "df['Outstanding_Debt'] = df.Outstanding_Debt.astype(float)\n"
      ],
      "metadata": {
        "id": "pmEgzq8Vq0Yi"
      },
      "execution_count": null,
      "outputs": []
    },
    {
      "cell_type": "code",
      "source": [
        "df['Amount_invested_monthly'] = df.Amount_invested_monthly.astype(float)\n"
      ],
      "metadata": {
        "id": "ER-_uX_orDoI"
      },
      "execution_count": null,
      "outputs": []
    },
    {
      "cell_type": "code",
      "source": [
        "df['Monthly_Balance'] = df.Monthly_Balance.astype(float)\n"
      ],
      "metadata": {
        "id": "1r4gFXImrD9t"
      },
      "execution_count": null,
      "outputs": []
    },
    {
      "cell_type": "markdown",
      "source": [
        "Assign Categorical Types to Numeric Types"
      ],
      "metadata": {
        "id": "h0Znpz-GXBbl"
      }
    },
    {
      "cell_type": "code",
      "source": [
        "from sklearn.preprocessing import LabelEncoder\n",
        "cols = ['Month' , 'Occupation', 'Payment_Behaviour','Credit_Score', 'Payment_of_Min_Amount','Type_of_Loan','Credit_Mix']\n",
        "# Label encode features\n",
        "label_encoder = LabelEncoder()\n",
        "for i in cols :\n",
        "  df[i] = label_encoder.fit_transform(df[i])\n",
        "# Print sample of dataset"
      ],
      "metadata": {
        "id": "jxyoifHNrFQp"
      },
      "execution_count": null,
      "outputs": []
    },
    {
      "cell_type": "markdown",
      "source": [
        "Combining object columns"
      ],
      "metadata": {
        "id": "4_hBUfoEXH63"
      }
    },
    {
      "cell_type": "code",
      "source": [
        "def Month_Converter(x):\n",
        "    if pd.notnull(x):\n",
        "        num1 = int(x.split(' ')[0])\n",
        "        num2 = int(x.split(' ')[3])\n",
        "      \n",
        "        return (num1*12)+num2\n",
        "    else:\n",
        "        return x"
      ],
      "metadata": {
        "id": "K_1jYF9JrZTp"
      },
      "execution_count": null,
      "outputs": []
    },
    {
      "cell_type": "code",
      "source": [
        "df['Credit_History_Age'] = df.Credit_History_Age.apply(lambda x: Month_Converter(x)).astype(float)"
      ],
      "metadata": {
        "id": "oDqraI4fr6c8"
      },
      "execution_count": null,
      "outputs": []
    },
    {
      "cell_type": "markdown",
      "source": [
        "##02. Exploratory Data Analysis (EDA)\n"
      ],
      "metadata": {
        "id": "D5-t6oAiXVew"
      }
    },
    {
      "cell_type": "markdown",
      "source": [
        "Detect NaN Values and Fill by Customer_ID Group\n"
      ],
      "metadata": {
        "id": "nzgYfxJVXgJe"
      }
    },
    {
      "cell_type": "markdown",
      "source": [
        "A. Reassign Group NaN Values in Object Column"
      ],
      "metadata": {
        "id": "weECSN4YXjl-"
      }
    },
    {
      "cell_type": "code",
      "source": [
        "# Reassign and Show Function\n",
        "def Reassign_Group_Object_NaN_Values(df, groupby, column, inplace=True):      \n",
        "    import scipy.stats as stats\n",
        "    # Assigning Wrong values Make Simple Function\n",
        "    def make_NaN_and_fill_mode(df, groupby, column, inplace=True):\n",
        "        # Assign None to np.NaN\n",
        "        if df[column].isin([None]).sum():\n",
        "            df[column][df[column].isin([None])] = np.NaN\n",
        "            \n",
        "        # fill with local mode\n",
        "        result = df.groupby(groupby)[column].transform(lambda x: x.fillna(stats.mode(x)[0][0]))\n",
        "\n",
        "        # inplace\n",
        "        if inplace:\n",
        "            df[column]=result\n",
        "        else:\n",
        "            return result\n",
        "    \n",
        "    # Run      \n",
        "    if inplace:  \n",
        "        # Before Assigning Wrong values      \n",
        "        x = df[column].value_counts(dropna=False).head(1)\n",
        "        print(f'\\nBefore Assigning NaN {column}:', [x if x.index[0] is np.NaN or x.index[0] is None else 'No NaN Value'] , end='\\n')\n",
        "        a = df.groupby(groupby)[column].apply(list) \n",
        "        print(f'\\nBefore Assigning Example {column}:\\n', *a.head().values, sep='\\n', end='\\n')\n",
        "        \n",
        "        # Assigning\n",
        "        make_NaN_and_fill_mode(df, groupby, column, inplace)\n",
        "        \n",
        "        # After Assigning Wrong values\n",
        "        y = df[column].value_counts(dropna=False).head(1)\n",
        "        print(f'\\nAfter Assigning NaN {column}:', [y if y.index[0] is np.NaN or x.index[0] is None else 'No NaN Value'] , end='\\n')\n",
        "        b = df.groupby(groupby)[column].apply(list)\n",
        "        print(f'\\nAfter Assigning Example {column}:\\n', *b.head().values, sep='\\n', end='\\n')\n",
        "    else:   \n",
        "        # Show\n",
        "        return make_NaN_and_fill_mode(df, groupby, column, inplace)"
      ],
      "metadata": {
        "id": "S3MIFL5Bb-5t"
      },
      "execution_count": null,
      "outputs": []
    },
    {
      "cell_type": "code",
      "source": [
        "Reassign_Group_Object_NaN_Values(df, 'Customer_ID', 'Name')\n",
        "Reassign_Group_Object_NaN_Values(df, 'Customer_ID', 'Occupation')\n",
        "df['Type_of_Loan'].replace([np.NaN], 'No Data', inplace=True)\n",
        "Reassign_Group_Object_NaN_Values(df, 'Customer_ID', 'Credit_Mix')\n",
        "Reassign_Group_Object_NaN_Values(df, 'Customer_ID', 'Payment_Behaviour')"
      ],
      "metadata": {
        "colab": {
          "base_uri": "https://localhost:8080/"
        },
        "id": "QC-uJBdAgTPd",
        "outputId": "9221c52a-647f-48b3-f388-a3b972c4d9c6"
      },
      "execution_count": null,
      "outputs": [
        {
          "output_type": "stream",
          "name": "stdout",
          "text": [
            "\n",
            "Before Assigning NaN Name: [NaN    9985\n",
            "Name: Name, dtype: int64]\n",
            "\n",
            "Before Assigning Example Name:\n",
            "\n",
            "['Matthias Blamontb', 'Matthias Blamontb', 'Matthias Blamontb', 'Matthias Blamontb', 'Matthias Blamontb', 'Matthias Blamontb', 'Matthias Blamontb', nan]\n",
            "[nan, 'Soyoung Kimu', 'Soyoung Kimu', 'Soyoung Kimu', 'Soyoung Kimu', nan, nan, 'Soyoung Kimu']\n",
            "['Koht', 'Koht', 'Koht', 'Koht', 'Koht', 'Koht', 'Koht', nan]\n",
            "['Edd', 'Edd', 'Edd', 'Edd', 'Edd', 'Edd', 'Edd', 'Edd']\n",
            "['Terry Wadeu', 'Terry Wadeu', 'Terry Wadeu', 'Terry Wadeu', 'Terry Wadeu', 'Terry Wadeu', 'Terry Wadeu', nan]\n",
            "\n",
            "After Assigning NaN Name: ['No NaN Value']\n",
            "\n",
            "After Assigning Example Name:\n",
            "\n",
            "['Matthias Blamontb', 'Matthias Blamontb', 'Matthias Blamontb', 'Matthias Blamontb', 'Matthias Blamontb', 'Matthias Blamontb', 'Matthias Blamontb', 'Matthias Blamontb']\n",
            "['Soyoung Kimu', 'Soyoung Kimu', 'Soyoung Kimu', 'Soyoung Kimu', 'Soyoung Kimu', 'Soyoung Kimu', 'Soyoung Kimu', 'Soyoung Kimu']\n",
            "['Koht', 'Koht', 'Koht', 'Koht', 'Koht', 'Koht', 'Koht', 'Koht']\n",
            "['Edd', 'Edd', 'Edd', 'Edd', 'Edd', 'Edd', 'Edd', 'Edd']\n",
            "['Terry Wadeu', 'Terry Wadeu', 'Terry Wadeu', 'Terry Wadeu', 'Terry Wadeu', 'Terry Wadeu', 'Terry Wadeu', 'Terry Wadeu']\n",
            "\n",
            "Before Assigning NaN Occupation: ['No NaN Value']\n",
            "\n",
            "Before Assigning Example Occupation:\n",
            "\n",
            "[6, 6, 6, 6, 6, 15, 6, 6]\n",
            "[8, 8, 15, 8, 8, 8, 8, 8]\n",
            "[2, 2, 2, 2, 2, 2, 2, 2]\n",
            "[0, 15, 0, 0, 0, 0, 0, 0]\n",
            "[14, 14, 14, 14, 15, 14, 14, 14]\n",
            "\n",
            "After Assigning NaN Occupation: ['No NaN Value']\n",
            "\n",
            "After Assigning Example Occupation:\n",
            "\n",
            "[6, 6, 6, 6, 6, 15, 6, 6]\n",
            "[8, 8, 15, 8, 8, 8, 8, 8]\n",
            "[2, 2, 2, 2, 2, 2, 2, 2]\n",
            "[0, 15, 0, 0, 0, 0, 0, 0]\n",
            "[14, 14, 14, 14, 15, 14, 14, 14]\n",
            "\n",
            "Before Assigning NaN Credit_Mix: ['No NaN Value']\n",
            "\n",
            "Before Assigning Example Credit_Mix:\n",
            "\n",
            "[2, 2, 2, 2, 2, 3, 2, 2]\n",
            "[3, 2, 2, 2, 3, 2, 3, 2]\n",
            "[3, 2, 2, 3, 2, 2, 2, 2]\n",
            "[2, 3, 2, 2, 2, 2, 2, 2]\n",
            "[3, 3, 2, 2, 2, 2, 2, 2]\n",
            "\n",
            "After Assigning NaN Credit_Mix: ['No NaN Value']\n",
            "\n",
            "After Assigning Example Credit_Mix:\n",
            "\n",
            "[2, 2, 2, 2, 2, 3, 2, 2]\n",
            "[3, 2, 2, 2, 3, 2, 3, 2]\n",
            "[3, 2, 2, 3, 2, 2, 2, 2]\n",
            "[2, 3, 2, 2, 2, 2, 2, 2]\n",
            "[3, 3, 2, 2, 2, 2, 2, 2]\n",
            "\n",
            "Before Assigning NaN Payment_Behaviour: ['No NaN Value']\n",
            "\n",
            "Before Assigning Example Payment_Behaviour:\n",
            "\n",
            "[1, 4, 5, 2, 3, 6, 3, 5]\n",
            "[1, 1, 5, 1, 5, 6, 5, 5]\n",
            "[2, 3, 5, 2, 1, 2, 3, 3]\n",
            "[1, 0, 1, 3, 4, 3, 6, 0]\n",
            "[2, 5, 1, 3, 4, 5, 0, 4]\n",
            "\n",
            "After Assigning NaN Payment_Behaviour: ['No NaN Value']\n",
            "\n",
            "After Assigning Example Payment_Behaviour:\n",
            "\n",
            "[1, 4, 5, 2, 3, 6, 3, 5]\n",
            "[1, 1, 5, 1, 5, 6, 5, 5]\n",
            "[2, 3, 5, 2, 1, 2, 3, 3]\n",
            "[1, 0, 1, 3, 4, 3, 6, 0]\n",
            "[2, 5, 1, 3, 4, 5, 0, 4]\n"
          ]
        }
      ]
    },
    {
      "cell_type": "markdown",
      "source": [
        "B. Detect Group Min-Max in Numeric Column Reassign NaN Values"
      ],
      "metadata": {
        "id": "Rh3rieWPX1ye"
      }
    },
    {
      "cell_type": "code",
      "source": [
        "# Define Outlier Range\n",
        "def get_iqr_lower_upper(df, column, multiply=1.5):\n",
        "    q1 = df[column].quantile(0.25)\n",
        "    q3 = df[column].quantile(0.75)\n",
        "    iqr = q3 -q1\n",
        "    \n",
        "    lower = q1-iqr*multiply\n",
        "    upper = q3+iqr*multiply\n",
        "    affect = df.loc[(df[column]<lower)|(df[column]>upper)].shape\n",
        "    print('Outliers:', affect)\n",
        "    return lower, upper"
      ],
      "metadata": {
        "id": "GoMR-NvXgokm"
      },
      "execution_count": null,
      "outputs": []
    },
    {
      "cell_type": "code",
      "source": [
        "# Reassign Wrong Values and Show Function\n",
        "def Reassign_Group_Numeric_Wrong_Values(df, groupby, column, inplace=True):      \n",
        "    import scipy.stats as stats \n",
        "\n",
        "    # Identify Wrong values Range\n",
        "    def get_group_min_max(df, groupby, column):            \n",
        "        cur = df[df[column].notna()].groupby(groupby)[column].apply(list)\n",
        "        x, y = cur.apply(lambda x: stats.mode(x)).apply([min, max])\n",
        "        return x[0][0], y[0][0]\n",
        "    \n",
        "    # Assigning Wrong values\n",
        "    def make_group_NaN_and_fill_mode(df, groupby, column, inplace=True):\n",
        "        df_dropped = df[df[column].notna()].groupby(groupby)[column].apply(list)\n",
        "        x, y = df_dropped.apply(lambda x: stats.mode(x)).apply([min, max])\n",
        "        mini, maxi = x[0][0], y[0][0]\n",
        "\n",
        "        # assign Wrong Values to NaN\n",
        "        col = df[column].apply(lambda x: np.NaN if ((x<mini)|(x>maxi)) else x)\n",
        "\n",
        "        # fill with local mode\n",
        "        mode_by_group = df.groupby(groupby)[column].transform(lambda x: x.mode()[0] if not x.mode().empty else np.NaN)\n",
        "        result = col.fillna(mode_by_group)\n",
        "\n",
        "        # inplace\n",
        "        if inplace:\n",
        "            df[column]=result\n",
        "        else:\n",
        "            return result\n",
        "        \n",
        "    \n",
        "    # Run      \n",
        "    if inplace:   \n",
        "        print(\"\\nExisting Min, Max Values:\", df[column].apply([min, max]), sep='\\n', end='\\n')       \n",
        "        mini, maxi = get_group_min_max(df, groupby, column)        \n",
        "        print(f\"\\nGroupby by {groupby}'s Actual min, max Values:\", f'min:\\t{mini},\\nmax:\\t{ maxi}', sep='\\n', end='\\n')\n",
        "        \n",
        "        # Before Assigning Wrong values      \n",
        "        x = df[column].value_counts(dropna=False).head(1)\n",
        "        print(f'\\nBefore Assigning Min, Max {column}:', [x if x.index[0] is np.NaN or x.index[0] is None else 'No NaN Value'] , end='\\n')\n",
        "        \n",
        "        a = df.groupby(groupby)[column].apply(list) \n",
        "        print(f'\\nBefore Assigning Example {column}:\\n', *a.head().values, sep='\\n', end='\\n')\n",
        "        \n",
        "        # Assigning\n",
        "        make_group_NaN_and_fill_mode(df, groupby, column, inplace)\n",
        "        \n",
        "        # After Assigning Wrong values\n",
        "        y = df[column].value_counts(dropna=False).head(1)\n",
        "        print(f'\\nAfter Assigning  Min, Max {column}:', [y if y.index[0] is np.NaN or x.index[0] is None else 'No NaN Value'] , end='\\n')\n",
        "        \n",
        "        b = df.groupby(groupby)[column].apply(list)\n",
        "        print(f'\\nAfter Assigning Example {column}:\\n', *b.head().values, sep='\\n', end='\\n')\n",
        "    else:   \n",
        "        # Show\n",
        "        return make_group_NaN_and_fill_mode(df, groupby, column, inplace)"
      ],
      "metadata": {
        "id": "lTACcoiXgpoa"
      },
      "execution_count": null,
      "outputs": []
    },
    {
      "cell_type": "code",
      "source": [
        "Reassign_Group_Numeric_Wrong_Values(df, 'Customer_ID', 'Age')\n",
        "get_iqr_lower_upper(df, 'Age')\n"
      ],
      "metadata": {
        "colab": {
          "base_uri": "https://localhost:8080/"
        },
        "id": "cBIs9JkMgxNL",
        "outputId": "3b44d987-de4b-4a63-bf4e-b5abd1847583"
      },
      "execution_count": null,
      "outputs": [
        {
          "output_type": "stream",
          "name": "stdout",
          "text": [
            "\n",
            "Existing Min, Max Values:\n",
            "min    -500\n",
            "max    8698\n",
            "Name: Age, dtype: int64\n",
            "\n",
            "Groupby by Customer_ID's Actual min, max Values:\n",
            "min:\t14,\n",
            "max:\t56\n",
            "\n",
            "Before Assigning Min, Max Age: ['No NaN Value']\n",
            "\n",
            "Before Assigning Example Age:\n",
            "\n",
            "[37, 38, 38, 8153, 38, 38, 38, 38]\n",
            "[48, 48, 48, 48, 48, 48, 48, 48]\n",
            "[3452, 37, 37, 37, 37, 37, 37, 37]\n",
            "[22, 22, 22, 22, 22, 22, 22, 23]\n",
            "[43, 44, 44, 44, 44, 44, 44, 44]\n",
            "\n",
            "After Assigning  Min, Max Age: ['No NaN Value']\n",
            "\n",
            "After Assigning Example Age:\n",
            "\n",
            "[37.0, 38.0, 38.0, 38.0, 38.0, 38.0, 38.0, 38.0]\n",
            "[48.0, 48.0, 48.0, 48.0, 48.0, 48.0, 48.0, 48.0]\n",
            "[37.0, 37.0, 37.0, 37.0, 37.0, 37.0, 37.0, 37.0]\n",
            "[22.0, 22.0, 22.0, 22.0, 22.0, 22.0, 22.0, 23.0]\n",
            "[43.0, 44.0, 44.0, 44.0, 44.0, 44.0, 44.0, 44.0]\n",
            "Outliers: (0, 28)\n"
          ]
        },
        {
          "output_type": "execute_result",
          "data": {
            "text/plain": [
              "(-3.0, 69.0)"
            ]
          },
          "metadata": {},
          "execution_count": 164
        }
      ]
    },
    {
      "cell_type": "code",
      "source": [
        "Reassign_Group_Numeric_Wrong_Values(df, 'Customer_ID', 'SSN')\n"
      ],
      "metadata": {
        "colab": {
          "base_uri": "https://localhost:8080/"
        },
        "id": "nHIQzTJKg1cV",
        "outputId": "c472a3d7-5a42-4570-d800-2d368f5e8189"
      },
      "execution_count": null,
      "outputs": [
        {
          "output_type": "stream",
          "name": "stdout",
          "text": [
            "\n",
            "Existing Min, Max Values:\n",
            "min        81349.0\n",
            "max    999993421.0\n",
            "Name: SSN, dtype: float64\n",
            "\n",
            "Groupby by Customer_ID's Actual min, max Values:\n",
            "min:\t81349.0,\n",
            "max:\t999993421.0\n",
            "\n",
            "Before Assigning Min, Max SSN: ['No NaN Value']\n",
            "\n",
            "Before Assigning Example SSN:\n",
            "\n",
            "[354656948.0, 354656948.0, 354656948.0, 354656948.0, 354656948.0, 354656948.0, 354656948.0, 354656948.0]\n",
            "[964812710.0, 964812710.0, 964812710.0, 964812710.0, 964812710.0, 964812710.0, 964812710.0, 964812710.0]\n",
            "[802194704.0, nan, 802194704.0, 802194704.0, 802194704.0, 802194704.0, 802194704.0, 802194704.0]\n",
            "[nan, nan, 891062189.0, 891062189.0, 891062189.0, 891062189.0, 891062189.0, 891062189.0]\n",
            "[422130011.0, 422130011.0, 422130011.0, 422130011.0, 422130011.0, 422130011.0, 422130011.0, 422130011.0]\n",
            "\n",
            "After Assigning  Min, Max SSN: ['No NaN Value']\n",
            "\n",
            "After Assigning Example SSN:\n",
            "\n",
            "[354656948.0, 354656948.0, 354656948.0, 354656948.0, 354656948.0, 354656948.0, 354656948.0, 354656948.0]\n",
            "[964812710.0, 964812710.0, 964812710.0, 964812710.0, 964812710.0, 964812710.0, 964812710.0, 964812710.0]\n",
            "[802194704.0, 802194704.0, 802194704.0, 802194704.0, 802194704.0, 802194704.0, 802194704.0, 802194704.0]\n",
            "[891062189.0, 891062189.0, 891062189.0, 891062189.0, 891062189.0, 891062189.0, 891062189.0, 891062189.0]\n",
            "[422130011.0, 422130011.0, 422130011.0, 422130011.0, 422130011.0, 422130011.0, 422130011.0, 422130011.0]\n"
          ]
        }
      ]
    },
    {
      "cell_type": "code",
      "source": [
        "Reassign_Group_Numeric_Wrong_Values(df, 'Customer_ID', 'Annual_Income')"
      ],
      "metadata": {
        "colab": {
          "base_uri": "https://localhost:8080/"
        },
        "id": "8C654ux_g4Mu",
        "outputId": "7e8a0512-7f73-4c20-9f2c-5292df404437"
      },
      "execution_count": null,
      "outputs": [
        {
          "output_type": "stream",
          "name": "stdout",
          "text": [
            "\n",
            "Existing Min, Max Values:\n",
            "min        7005.93\n",
            "max    24198062.00\n",
            "Name: Annual_Income, dtype: float64\n",
            "\n",
            "Groupby by Customer_ID's Actual min, max Values:\n",
            "min:\t7005.93,\n",
            "max:\t179987.28\n",
            "\n",
            "Before Assigning Min, Max Annual_Income: ['No NaN Value']\n",
            "\n",
            "Before Assigning Example Annual_Income:\n",
            "\n",
            "[16756.18, 16756.18, 16756.18, 16756.18, 16756.18, 16756.18, 16756.18, 16756.18]\n",
            "[21212.91, 21212.91, 21212.91, 21212.91, 21212.91, 21212.91, 21212.91, 21212.91]\n",
            "[33540.43, 33540.43, 33540.43, 33540.43, 33540.43, 33540.43, 33540.43, 33540.43]\n",
            "[80983.64, 80983.64, 80983.64, 80983.64, 80983.64, 80983.64, 80983.64, 80983.64]\n",
            "[104142.56, 104142.56, 104142.56, 104142.56, 104142.56, 104142.56, 104142.56, 104142.56]\n",
            "\n",
            "After Assigning  Min, Max Annual_Income: ['No NaN Value']\n",
            "\n",
            "After Assigning Example Annual_Income:\n",
            "\n",
            "[16756.18, 16756.18, 16756.18, 16756.18, 16756.18, 16756.18, 16756.18, 16756.18]\n",
            "[21212.91, 21212.91, 21212.91, 21212.91, 21212.91, 21212.91, 21212.91, 21212.91]\n",
            "[33540.43, 33540.43, 33540.43, 33540.43, 33540.43, 33540.43, 33540.43, 33540.43]\n",
            "[80983.64, 80983.64, 80983.64, 80983.64, 80983.64, 80983.64, 80983.64, 80983.64]\n",
            "[104142.56, 104142.56, 104142.56, 104142.56, 104142.56, 104142.56, 104142.56, 104142.56]\n"
          ]
        }
      ]
    },
    {
      "cell_type": "code",
      "source": [
        "Reassign_Group_Numeric_Wrong_Values(df, 'Customer_ID', 'Monthly_Inhand_Salary')"
      ],
      "metadata": {
        "colab": {
          "base_uri": "https://localhost:8080/"
        },
        "id": "3Mt9qUVBg8m4",
        "outputId": "5e92a400-0ba6-4f55-9576-932557304878"
      },
      "execution_count": null,
      "outputs": [
        {
          "output_type": "stream",
          "name": "stdout",
          "text": [
            "\n",
            "Existing Min, Max Values:\n",
            "min      303.645417\n",
            "max    15204.633333\n",
            "Name: Monthly_Inhand_Salary, dtype: float64\n",
            "\n",
            "Groupby by Customer_ID's Actual min, max Values:\n",
            "min:\t303.6454166666666,\n",
            "max:\t15204.633333333331\n",
            "\n",
            "Before Assigning Min, Max Monthly_Inhand_Salary: ['No NaN Value']\n",
            "\n",
            "Before Assigning Example Monthly_Inhand_Salary:\n",
            "\n",
            "[1331.3483333333334, 1331.3483333333334, 1331.3483333333334, 1331.3483333333334, 1331.3483333333334, 1331.3483333333334, 1331.3483333333334, 1331.3483333333334]\n",
            "[1496.7425, 1496.7425, 1496.7425, 1496.7425, nan, 1496.7425, 1496.7425, 1496.7425]\n",
            "[2655.035833333333, 2655.035833333333, 2655.035833333333, 2655.035833333333, 2655.035833333333, 2655.035833333333, 2655.035833333333, 2655.035833333333]\n",
            "[6692.636666666666, 6692.636666666666, 6692.636666666666, 6692.636666666666, 6692.636666666666, 6692.636666666666, 6692.636666666666, 6692.636666666666]\n",
            "[8433.546666666667, 8433.546666666667, 8433.546666666667, 8433.546666666667, 8433.546666666667, 8433.546666666667, 8433.546666666667, nan]\n",
            "\n",
            "After Assigning  Min, Max Monthly_Inhand_Salary: ['No NaN Value']\n",
            "\n",
            "After Assigning Example Monthly_Inhand_Salary:\n",
            "\n",
            "[1331.3483333333334, 1331.3483333333334, 1331.3483333333334, 1331.3483333333334, 1331.3483333333334, 1331.3483333333334, 1331.3483333333334, 1331.3483333333334]\n",
            "[1496.7425, 1496.7425, 1496.7425, 1496.7425, 1496.7425, 1496.7425, 1496.7425, 1496.7425]\n",
            "[2655.035833333333, 2655.035833333333, 2655.035833333333, 2655.035833333333, 2655.035833333333, 2655.035833333333, 2655.035833333333, 2655.035833333333]\n",
            "[6692.636666666666, 6692.636666666666, 6692.636666666666, 6692.636666666666, 6692.636666666666, 6692.636666666666, 6692.636666666666, 6692.636666666666]\n",
            "[8433.546666666667, 8433.546666666667, 8433.546666666667, 8433.546666666667, 8433.546666666667, 8433.546666666667, 8433.546666666667, 8433.546666666667]\n"
          ]
        }
      ]
    },
    {
      "cell_type": "code",
      "source": [
        "Reassign_Group_Numeric_Wrong_Values(df, 'Customer_ID', 'Num_Bank_Accounts')"
      ],
      "metadata": {
        "colab": {
          "base_uri": "https://localhost:8080/"
        },
        "id": "vsSsIk7YhA-Q",
        "outputId": "d2043af4-934e-4160-f19f-5bfb8e7bc8da"
      },
      "execution_count": null,
      "outputs": [
        {
          "output_type": "stream",
          "name": "stdout",
          "text": [
            "\n",
            "Existing Min, Max Values:\n",
            "min      -1\n",
            "max    1798\n",
            "Name: Num_Bank_Accounts, dtype: int64\n",
            "\n",
            "Groupby by Customer_ID's Actual min, max Values:\n",
            "min:\t-1,\n",
            "max:\t10\n",
            "\n",
            "Before Assigning Min, Max Num_Bank_Accounts: ['No NaN Value']\n",
            "\n",
            "Before Assigning Example Num_Bank_Accounts:\n",
            "\n",
            "[9, 9, 9, 9, 9, 9, 9, 9]\n",
            "[3, 3, 3, 1174, 3, 3, 3, 3]\n",
            "[6, 6, 6, 6, 6, 6, 6, 6]\n",
            "[6, 6, 6, 6, 6, 6, 6, 6]\n",
            "[3, 3, 3, 3, 3, 3, 3, 3]\n",
            "\n",
            "After Assigning  Min, Max Num_Bank_Accounts: ['No NaN Value']\n",
            "\n",
            "After Assigning Example Num_Bank_Accounts:\n",
            "\n",
            "[9.0, 9.0, 9.0, 9.0, 9.0, 9.0, 9.0, 9.0]\n",
            "[3.0, 3.0, 3.0, 3.0, 3.0, 3.0, 3.0, 3.0]\n",
            "[6.0, 6.0, 6.0, 6.0, 6.0, 6.0, 6.0, 6.0]\n",
            "[6.0, 6.0, 6.0, 6.0, 6.0, 6.0, 6.0, 6.0]\n",
            "[3.0, 3.0, 3.0, 3.0, 3.0, 3.0, 3.0, 3.0]\n"
          ]
        }
      ]
    },
    {
      "cell_type": "code",
      "source": [
        "Reassign_Group_Numeric_Wrong_Values(df, 'Customer_ID', 'Num_Credit_Card')"
      ],
      "metadata": {
        "colab": {
          "base_uri": "https://localhost:8080/"
        },
        "id": "AP0jbyXPhFLk",
        "outputId": "ab1cb2d0-3f9c-4b4d-d50f-7c324b90992c"
      },
      "execution_count": null,
      "outputs": [
        {
          "output_type": "stream",
          "name": "stdout",
          "text": [
            "\n",
            "Existing Min, Max Values:\n",
            "min       0\n",
            "max    1499\n",
            "Name: Num_Credit_Card, dtype: int64\n",
            "\n",
            "Groupby by Customer_ID's Actual min, max Values:\n",
            "min:\t0,\n",
            "max:\t11\n",
            "\n",
            "Before Assigning Min, Max Num_Credit_Card: ['No NaN Value']\n",
            "\n",
            "Before Assigning Example Num_Credit_Card:\n",
            "\n",
            "[6, 6, 6, 6, 6, 6, 6, 6]\n",
            "[4, 4, 4, 4, 4, 4, 4, 888]\n",
            "[3, 3, 3, 3, 3, 3, 3, 3]\n",
            "[3, 3, 3, 3, 725, 3, 3, 3]\n",
            "[5, 5, 5, 5, 5, 5, 5, 5]\n",
            "\n",
            "After Assigning  Min, Max Num_Credit_Card: ['No NaN Value']\n",
            "\n",
            "After Assigning Example Num_Credit_Card:\n",
            "\n",
            "[6.0, 6.0, 6.0, 6.0, 6.0, 6.0, 6.0, 6.0]\n",
            "[4.0, 4.0, 4.0, 4.0, 4.0, 4.0, 4.0, 4.0]\n",
            "[3.0, 3.0, 3.0, 3.0, 3.0, 3.0, 3.0, 3.0]\n",
            "[3.0, 3.0, 3.0, 3.0, 3.0, 3.0, 3.0, 3.0]\n",
            "[5.0, 5.0, 5.0, 5.0, 5.0, 5.0, 5.0, 5.0]\n"
          ]
        }
      ]
    },
    {
      "cell_type": "code",
      "source": [
        "Reassign_Group_Numeric_Wrong_Values(df, 'Customer_ID', 'Interest_Rate')"
      ],
      "metadata": {
        "colab": {
          "base_uri": "https://localhost:8080/"
        },
        "id": "JyhWNQOmhIE-",
        "outputId": "5d518cb9-e184-44a9-aa73-5c1581ef25a1"
      },
      "execution_count": null,
      "outputs": [
        {
          "output_type": "stream",
          "name": "stdout",
          "text": [
            "\n",
            "Existing Min, Max Values:\n",
            "min       1\n",
            "max    5797\n",
            "Name: Interest_Rate, dtype: int64\n",
            "\n",
            "Groupby by Customer_ID's Actual min, max Values:\n",
            "min:\t1,\n",
            "max:\t34\n",
            "\n",
            "Before Assigning Min, Max Interest_Rate: ['No NaN Value']\n",
            "\n",
            "Before Assigning Example Interest_Rate:\n",
            "\n",
            "[22, 22, 22, 22, 22, 22, 22, 22]\n",
            "[10, 10, 10, 10, 10, 10, 10, 10]\n",
            "[17, 17, 17, 17, 17, 17, 17, 17]\n",
            "[15, 15, 15, 15, 15, 15, 15, 15]\n",
            "[5, 5, 5, 5, 5, 5, 5, 5]\n",
            "\n",
            "After Assigning  Min, Max Interest_Rate: ['No NaN Value']\n",
            "\n",
            "After Assigning Example Interest_Rate:\n",
            "\n",
            "[22.0, 22.0, 22.0, 22.0, 22.0, 22.0, 22.0, 22.0]\n",
            "[10.0, 10.0, 10.0, 10.0, 10.0, 10.0, 10.0, 10.0]\n",
            "[17.0, 17.0, 17.0, 17.0, 17.0, 17.0, 17.0, 17.0]\n",
            "[15.0, 15.0, 15.0, 15.0, 15.0, 15.0, 15.0, 15.0]\n",
            "[5.0, 5.0, 5.0, 5.0, 5.0, 5.0, 5.0, 5.0]\n"
          ]
        }
      ]
    },
    {
      "cell_type": "code",
      "source": [
        "Reassign_Group_Numeric_Wrong_Values(df, 'Customer_ID', 'Num_of_Loan')"
      ],
      "metadata": {
        "colab": {
          "base_uri": "https://localhost:8080/"
        },
        "id": "0jT7EA4uhLEM",
        "outputId": "4c5cf589-5b5f-4836-b083-0808d8112884"
      },
      "execution_count": null,
      "outputs": [
        {
          "output_type": "stream",
          "name": "stdout",
          "text": [
            "\n",
            "Existing Min, Max Values:\n",
            "min    -100\n",
            "max    1496\n",
            "Name: Num_of_Loan, dtype: int64\n",
            "\n",
            "Groupby by Customer_ID's Actual min, max Values:\n",
            "min:\t0,\n",
            "max:\t9\n",
            "\n",
            "Before Assigning Min, Max Num_of_Loan: ['No NaN Value']\n",
            "\n",
            "Before Assigning Example Num_of_Loan:\n",
            "\n",
            "[2, 2, 2, 2, 2, 2, 2, 2]\n",
            "[3, 3, 3, 3, -100, 3, 3, 3]\n",
            "[0, 0, 0, 0, 0, 0, 0, 0]\n",
            "[4, 4, 4, 4, 4, 4, 4, 4]\n",
            "[3, 3, 3, 3, 3, 3, 3, 3]\n",
            "\n",
            "After Assigning  Min, Max Num_of_Loan: ['No NaN Value']\n",
            "\n",
            "After Assigning Example Num_of_Loan:\n",
            "\n",
            "[2.0, 2.0, 2.0, 2.0, 2.0, 2.0, 2.0, 2.0]\n",
            "[3.0, 3.0, 3.0, 3.0, 3.0, 3.0, 3.0, 3.0]\n",
            "[0.0, 0.0, 0.0, 0.0, 0.0, 0.0, 0.0, 0.0]\n",
            "[4.0, 4.0, 4.0, 4.0, 4.0, 4.0, 4.0, 4.0]\n",
            "[3.0, 3.0, 3.0, 3.0, 3.0, 3.0, 3.0, 3.0]\n"
          ]
        }
      ]
    },
    {
      "cell_type": "code",
      "source": [
        "Reassign_Group_Numeric_Wrong_Values(df, 'Customer_ID', 'Delay_from_due_date')"
      ],
      "metadata": {
        "colab": {
          "base_uri": "https://localhost:8080/"
        },
        "id": "6VUQEUJQhMwY",
        "outputId": "7d4e40eb-2862-4d8c-c996-730ee89d919f"
      },
      "execution_count": null,
      "outputs": [
        {
          "output_type": "stream",
          "name": "stdout",
          "text": [
            "\n",
            "Existing Min, Max Values:\n",
            "min    -5\n",
            "max    67\n",
            "Name: Delay_from_due_date, dtype: int64\n",
            "\n",
            "Groupby by Customer_ID's Actual min, max Values:\n",
            "min:\t-5,\n",
            "max:\t62\n",
            "\n",
            "Before Assigning Min, Max Delay_from_due_date: ['No NaN Value']\n",
            "\n",
            "Before Assigning Example Delay_from_due_date:\n",
            "\n",
            "[48, 48, 48, 48, 48, 48, 48, 48]\n",
            "[19, 19, 19, 19, 19, 19, 19, 16]\n",
            "[25, 28, 22, 26, 26, 26, 26, 26]\n",
            "[19, 19, 19, 19, 19, 19, 19, 19]\n",
            "[15, 15, 20, 16, 20, 20, 20, 24]\n",
            "\n",
            "After Assigning  Min, Max Delay_from_due_date: ['No NaN Value']\n",
            "\n",
            "After Assigning Example Delay_from_due_date:\n",
            "\n",
            "[48.0, 48.0, 48.0, 48.0, 48.0, 48.0, 48.0, 48.0]\n",
            "[19.0, 19.0, 19.0, 19.0, 19.0, 19.0, 19.0, 16.0]\n",
            "[25.0, 28.0, 22.0, 26.0, 26.0, 26.0, 26.0, 26.0]\n",
            "[19.0, 19.0, 19.0, 19.0, 19.0, 19.0, 19.0, 19.0]\n",
            "[15.0, 15.0, 20.0, 16.0, 20.0, 20.0, 20.0, 24.0]\n"
          ]
        }
      ]
    },
    {
      "cell_type": "code",
      "source": [
        "Reassign_Group_Numeric_Wrong_Values(df, 'Customer_ID', 'Num_of_Delayed_Payment')"
      ],
      "metadata": {
        "colab": {
          "base_uri": "https://localhost:8080/"
        },
        "id": "AQB_1uM9hOf0",
        "outputId": "2fee7c0c-bed7-49b7-9267-a91a9dce558c"
      },
      "execution_count": null,
      "outputs": [
        {
          "output_type": "stream",
          "name": "stdout",
          "text": [
            "\n",
            "Existing Min, Max Values:\n",
            "min      -3.0\n",
            "max    4397.0\n",
            "Name: Num_of_Delayed_Payment, dtype: float64\n",
            "\n",
            "Groupby by Customer_ID's Actual min, max Values:\n",
            "min:\t-2.0,\n",
            "max:\t28.0\n",
            "\n",
            "Before Assigning Min, Max Num_of_Delayed_Payment: ['No NaN Value']\n",
            "\n",
            "Before Assigning Example Num_of_Delayed_Payment:\n",
            "\n",
            "[10.0, 12.0, 12.0, 13.0, nan, 12.0, 11.0, 12.0]\n",
            "[19.0, 19.0, 19.0, 19.0, 19.0, 21.0, 20.0, 19.0]\n",
            "[11.0, 11.0, 11.0, nan, 11.0, nan, 11.0, 13.0]\n",
            "[18.0, 18.0, 18.0, 18.0, 18.0, nan, 20.0, 18.0]\n",
            "[17.0, 16.0, 14.0, nan, 17.0, 14.0, 11.0, 14.0]\n",
            "\n",
            "After Assigning  Min, Max Num_of_Delayed_Payment: ['No NaN Value']\n",
            "\n",
            "After Assigning Example Num_of_Delayed_Payment:\n",
            "\n",
            "[10.0, 12.0, 12.0, 13.0, 12.0, 12.0, 11.0, 12.0]\n",
            "[19.0, 19.0, 19.0, 19.0, 19.0, 21.0, 20.0, 19.0]\n",
            "[11.0, 11.0, 11.0, 11.0, 11.0, 11.0, 11.0, 13.0]\n",
            "[18.0, 18.0, 18.0, 18.0, 18.0, 18.0, 20.0, 18.0]\n",
            "[17.0, 16.0, 14.0, 14.0, 17.0, 14.0, 11.0, 14.0]\n"
          ]
        }
      ]
    },
    {
      "cell_type": "code",
      "source": [
        "Reassign_Group_Numeric_Wrong_Values(df, 'Customer_ID', 'Changed_Credit_Limit')"
      ],
      "metadata": {
        "colab": {
          "base_uri": "https://localhost:8080/"
        },
        "id": "9LTMfw8dhQV6",
        "outputId": "1722c631-4fd3-4855-fc1e-006348f247c3"
      },
      "execution_count": null,
      "outputs": [
        {
          "output_type": "stream",
          "name": "stdout",
          "text": [
            "\n",
            "Existing Min, Max Values:\n",
            "min    -6.49\n",
            "max    36.97\n",
            "Name: Changed_Credit_Limit, dtype: float64\n",
            "\n",
            "Groupby by Customer_ID's Actual min, max Values:\n",
            "min:\t-5.01,\n",
            "max:\t29.98\n",
            "\n",
            "Before Assigning Min, Max Changed_Credit_Limit: ['No NaN Value']\n",
            "\n",
            "Before Assigning Example Changed_Credit_Limit:\n",
            "\n",
            "[10.66, 10.66, 10.66, 10.66, 10.66, 10.66, 10.66, 10.66]\n",
            "[12.13, 5.13, 5.13, 5.13, 5.13, 2.13, 5.13, 5.13]\n",
            "[14.11, 14.11, 14.11, 14.11, 14.11, 14.11, 14.11, 14.11]\n",
            "[16.91, 16.91, 16.91, 16.91, 16.91, 16.91, 19.91, 16.91]\n",
            "[15.28, 15.28, 15.28, 15.28, 19.28, 15.28, 15.28, 15.28]\n",
            "\n",
            "After Assigning  Min, Max Changed_Credit_Limit: ['No NaN Value']\n",
            "\n",
            "After Assigning Example Changed_Credit_Limit:\n",
            "\n",
            "[10.66, 10.66, 10.66, 10.66, 10.66, 10.66, 10.66, 10.66]\n",
            "[12.13, 5.13, 5.13, 5.13, 5.13, 2.13, 5.13, 5.13]\n",
            "[14.11, 14.11, 14.11, 14.11, 14.11, 14.11, 14.11, 14.11]\n",
            "[16.91, 16.91, 16.91, 16.91, 16.91, 16.91, 19.91, 16.91]\n",
            "[15.28, 15.28, 15.28, 15.28, 19.28, 15.28, 15.28, 15.28]\n"
          ]
        }
      ]
    },
    {
      "cell_type": "code",
      "source": [
        "Reassign_Group_Numeric_Wrong_Values(df, 'Customer_ID', 'Num_Credit_Inquiries')"
      ],
      "metadata": {
        "colab": {
          "base_uri": "https://localhost:8080/"
        },
        "id": "cG-bFBalhSAi",
        "outputId": "ce2a236a-5364-4f23-f18b-e8b09236ea77"
      },
      "execution_count": null,
      "outputs": [
        {
          "output_type": "stream",
          "name": "stdout",
          "text": [
            "\n",
            "Existing Min, Max Values:\n",
            "min       0.0\n",
            "max    2597.0\n",
            "Name: Num_Credit_Inquiries, dtype: float64\n",
            "\n",
            "Groupby by Customer_ID's Actual min, max Values:\n",
            "min:\t0.0,\n",
            "max:\t17.0\n",
            "\n",
            "Before Assigning Min, Max Num_Credit_Inquiries: ['No NaN Value']\n",
            "\n",
            "Before Assigning Example Num_Credit_Inquiries:\n",
            "\n",
            "[nan, 8.0, 8.0, 8.0, 8.0, 8.0, 8.0, 8.0]\n",
            "[1.0, 1.0, 1.0, 1.0, 1196.0, 1.0, 1.0, 1.0]\n",
            "[6.0, 10.0, 10.0, 10.0, 10.0, 10.0, 10.0, 10.0]\n",
            "[7.0, 7.0, 7.0, 7.0, 7.0, 7.0, 7.0, 7.0]\n",
            "[6.0, 6.0, 6.0, 6.0, 6.0, 6.0, 6.0, 692.0]\n",
            "\n",
            "After Assigning  Min, Max Num_Credit_Inquiries: ['No NaN Value']\n",
            "\n",
            "After Assigning Example Num_Credit_Inquiries:\n",
            "\n",
            "[8.0, 8.0, 8.0, 8.0, 8.0, 8.0, 8.0, 8.0]\n",
            "[1.0, 1.0, 1.0, 1.0, 1.0, 1.0, 1.0, 1.0]\n",
            "[6.0, 10.0, 10.0, 10.0, 10.0, 10.0, 10.0, 10.0]\n",
            "[7.0, 7.0, 7.0, 7.0, 7.0, 7.0, 7.0, 7.0]\n",
            "[6.0, 6.0, 6.0, 6.0, 6.0, 6.0, 6.0, 6.0]\n"
          ]
        }
      ]
    },
    {
      "cell_type": "code",
      "source": [
        "Reassign_Group_Numeric_Wrong_Values(df, 'Customer_ID', 'Outstanding_Debt')"
      ],
      "metadata": {
        "colab": {
          "base_uri": "https://localhost:8080/"
        },
        "id": "mIl3Y7yahTjw",
        "outputId": "c2cb02ca-5583-486b-adc5-3bc16abb4249"
      },
      "execution_count": null,
      "outputs": [
        {
          "output_type": "stream",
          "name": "stdout",
          "text": [
            "\n",
            "Existing Min, Max Values:\n",
            "min       0.23\n",
            "max    4998.07\n",
            "Name: Outstanding_Debt, dtype: float64\n",
            "\n",
            "Groupby by Customer_ID's Actual min, max Values:\n",
            "min:\t0.23,\n",
            "max:\t4998.07\n",
            "\n",
            "Before Assigning Min, Max Outstanding_Debt: ['No NaN Value']\n",
            "\n",
            "Before Assigning Example Outstanding_Debt:\n",
            "\n",
            "[1941.73, 1941.73, 1941.73, 1941.73, 1941.73, 1941.73, 1941.73, 1941.73]\n",
            "[993.15, 993.15, 993.15, 993.15, 993.15, 993.15, 993.15, 993.15]\n",
            "[1138.97, 1138.97, 1138.97, 1138.97, 1138.97, 1138.97, 1138.97, 1138.97]\n",
            "[982.44, 982.44, 982.44, 982.44, 982.44, 982.44, 982.44, 982.44]\n",
            "[1371.8, 1371.8, 1371.8, 1371.8, 1371.8, 1371.8, 1371.8, 1371.8]\n",
            "\n",
            "After Assigning  Min, Max Outstanding_Debt: ['No NaN Value']\n",
            "\n",
            "After Assigning Example Outstanding_Debt:\n",
            "\n",
            "[1941.73, 1941.73, 1941.73, 1941.73, 1941.73, 1941.73, 1941.73, 1941.73]\n",
            "[993.15, 993.15, 993.15, 993.15, 993.15, 993.15, 993.15, 993.15]\n",
            "[1138.97, 1138.97, 1138.97, 1138.97, 1138.97, 1138.97, 1138.97, 1138.97]\n",
            "[982.44, 982.44, 982.44, 982.44, 982.44, 982.44, 982.44, 982.44]\n",
            "[1371.8, 1371.8, 1371.8, 1371.8, 1371.8, 1371.8, 1371.8, 1371.8]\n"
          ]
        }
      ]
    },
    {
      "cell_type": "code",
      "source": [
        "df['Credit_History_Age'] = df.groupby('Customer_ID')['Credit_History_Age'].apply(lambda x: x.interpolate().bfill().ffill())"
      ],
      "metadata": {
        "id": "YMkl7-wUhavD"
      },
      "execution_count": null,
      "outputs": []
    },
    {
      "cell_type": "code",
      "source": [
        "Reassign_Group_Numeric_Wrong_Values(df, 'Customer_ID', 'Total_EMI_per_month')"
      ],
      "metadata": {
        "colab": {
          "base_uri": "https://localhost:8080/"
        },
        "id": "dMIcLxJhhdpk",
        "outputId": "da5ff34b-e72c-4c52-804b-3544b7615309"
      },
      "execution_count": null,
      "outputs": [
        {
          "output_type": "stream",
          "name": "stdout",
          "text": [
            "\n",
            "Existing Min, Max Values:\n",
            "min        0.0\n",
            "max    82331.0\n",
            "Name: Total_EMI_per_month, dtype: float64\n",
            "\n",
            "Groupby by Customer_ID's Actual min, max Values:\n",
            "min:\t0.0,\n",
            "max:\t1779.1032538262775\n",
            "\n",
            "Before Assigning Min, Max Total_EMI_per_month: ['No NaN Value']\n",
            "\n",
            "Before Assigning Example Total_EMI_per_month:\n",
            "\n",
            "[27.44208910654816, 27.44208910654816, 27.44208910654816, 27.44208910654816, 27.44208910654816, 27.44208910654816, 27.44208910654816, 32972.0]\n",
            "[45.74570037068675, 45.74570037068675, 45.74570037068675, 45.74570037068675, 45.74570037068675, 45.74570037068675, 45.74570037068675, 45.74570037068675]\n",
            "[0.0, 0.0, 0.0, 0.0, 0.0, 0.0, 0.0, 0.0]\n",
            "[188.45659522353543, 188.45659522353543, 188.45659522353543, 188.45659522353543, 188.45659522353543, 188.45659522353543, 188.45659522353543, 188.45659522353543]\n",
            "[257.7386460249556, 257.7386460249556, 257.7386460249556, 257.7386460249556, 257.7386460249556, 257.7386460249556, 257.7386460249556, 257.7386460249556]\n",
            "\n",
            "After Assigning  Min, Max Total_EMI_per_month: ['No NaN Value']\n",
            "\n",
            "After Assigning Example Total_EMI_per_month:\n",
            "\n",
            "[27.44208910654816, 27.44208910654816, 27.44208910654816, 27.44208910654816, 27.44208910654816, 27.44208910654816, 27.44208910654816, 27.44208910654816]\n",
            "[45.74570037068675, 45.74570037068675, 45.74570037068675, 45.74570037068675, 45.74570037068675, 45.74570037068675, 45.74570037068675, 45.74570037068675]\n",
            "[0.0, 0.0, 0.0, 0.0, 0.0, 0.0, 0.0, 0.0]\n",
            "[188.45659522353543, 188.45659522353543, 188.45659522353543, 188.45659522353543, 188.45659522353543, 188.45659522353543, 188.45659522353543, 188.45659522353543]\n",
            "[257.7386460249556, 257.7386460249556, 257.7386460249556, 257.7386460249556, 257.7386460249556, 257.7386460249556, 257.7386460249556, 257.7386460249556]\n"
          ]
        }
      ]
    },
    {
      "cell_type": "code",
      "source": [
        "Reassign_Group_Numeric_Wrong_Values(df, 'Customer_ID', 'Amount_invested_monthly')"
      ],
      "metadata": {
        "colab": {
          "base_uri": "https://localhost:8080/"
        },
        "id": "shdO4hYUhf3m",
        "outputId": "ce8c379b-ccfc-4a2c-b0ee-671501962461"
      },
      "execution_count": null,
      "outputs": [
        {
          "output_type": "stream",
          "name": "stdout",
          "text": [
            "\n",
            "Existing Min, Max Values:\n",
            "min        0.0\n",
            "max    10000.0\n",
            "Name: Amount_invested_monthly, dtype: float64\n",
            "\n",
            "Groupby by Customer_ID's Actual min, max Values:\n",
            "min:\t0.0,\n",
            "max:\t10000.0\n",
            "\n",
            "Before Assigning Min, Max Amount_invested_monthly: ['No NaN Value']\n",
            "\n",
            "Before Assigning Example Amount_invested_monthly:\n",
            "\n",
            "[45.30106826949194, 90.07842318605292, 61.73271462991577, 56.4949816634165, 51.726244263612, 60.82828780912217, 95.6486475869488, 66.71824831147686]\n",
            "[30.373471914127194, 44.31995483866171, nan, 62.81248610216079, 148.30956484525, 10000.0, 59.30896122323683, 118.54244614778156]\n",
            "[118.8806978910128, nan, 337.1997406214716, 170.8689598433119, 74.1980692925824, 105.4573791889266, 197.85037247610126, 165.20443547590202]\n",
            "[149.37725143584314, 146.97809602243544, 101.12020124815511, 492.3974911743151, 264.1791118544216, 261.69017894140734, 200.64143588981403, 126.07161584554541]\n",
            "[292.2127037381353, nan, 187.59489650806347, 275.635709774446, 487.8062062008502, nan, 124.29952362711306, 481.7990883470461]\n",
            "\n",
            "After Assigning  Min, Max Amount_invested_monthly: ['No NaN Value']\n",
            "\n",
            "After Assigning Example Amount_invested_monthly:\n",
            "\n",
            "[45.30106826949194, 90.07842318605292, 61.73271462991577, 56.4949816634165, 51.726244263612, 60.82828780912217, 95.6486475869488, 66.71824831147686]\n",
            "[30.373471914127194, 44.31995483866171, 30.373471914127194, 62.81248610216079, 148.30956484525, 10000.0, 59.30896122323683, 118.54244614778156]\n",
            "[118.8806978910128, 74.1980692925824, 337.1997406214716, 170.8689598433119, 74.1980692925824, 105.4573791889266, 197.85037247610126, 165.20443547590202]\n",
            "[149.37725143584314, 146.97809602243544, 101.12020124815511, 492.3974911743151, 264.1791118544216, 261.69017894140734, 200.64143588981403, 126.07161584554541]\n",
            "[292.2127037381353, 124.29952362711306, 187.59489650806347, 275.635709774446, 487.8062062008502, 124.29952362711306, 124.29952362711306, 481.7990883470461]\n"
          ]
        }
      ]
    },
    {
      "cell_type": "code",
      "source": [
        "Reassign_Group_Numeric_Wrong_Values(df, 'Customer_ID', 'Monthly_Balance')"
      ],
      "metadata": {
        "colab": {
          "base_uri": "https://localhost:8080/"
        },
        "id": "5FfHQh7Bhimb",
        "outputId": "868ba176-1c8c-4ffa-f30f-13be2cbc3fae"
      },
      "execution_count": null,
      "outputs": [
        {
          "output_type": "stream",
          "name": "stdout",
          "text": [
            "\n",
            "Existing Min, Max Values:\n",
            "min   -3.333333e+26\n",
            "max    1.602041e+03\n",
            "Name: Monthly_Balance, dtype: float64\n",
            "\n",
            "Groupby by Customer_ID's Actual min, max Values:\n",
            "min:\t-3.333333333333333e+26,\n",
            "max:\t1183.9306960885192\n",
            "\n",
            "Before Assigning Min, Max Monthly_Balance: ['No NaN Value']\n",
            "\n",
            "Before Assigning Example Monthly_Balance:\n",
            "\n",
            "[310.39167595729333, 295.61432104073225, 333.9600295968694, 309.1977625633686, 323.9664999631732, 334.864456417663, 280.04409663983637, 328.97449591530835]\n",
            "[323.5550777151861, 309.6085947906515, 265.4874646531188, 291.11606352715245, 245.61898478406326, 239.46481499922072, 334.61958840607645, 275.3861034815317]\n",
            "[406.62288544232047, 350.39351957834924, 218.30384271186168, 354.63462349002145, 441.30551404075095, 420.04620414440666, 337.6532108572321, 370.2991478574313]\n",
            "[581.4298200072883, 573.8289754206959, 629.6868701949761, 258.40958026881617, 496.6279595887097, 489.116892501724, 560.1656355533173, 594.7354555975859]\n",
            "[553.4033169035758, 228.71773015063442, 648.0211241336477, 579.9803108672652, 377.809814440861, nan, 701.3164970145981, 383.81693229466515]\n",
            "\n",
            "After Assigning  Min, Max Monthly_Balance: ['No NaN Value']\n",
            "\n",
            "After Assigning Example Monthly_Balance:\n",
            "\n",
            "[310.39167595729333, 295.61432104073225, 333.9600295968694, 309.1977625633686, 323.9664999631732, 334.864456417663, 280.04409663983637, 328.97449591530835]\n",
            "[323.5550777151861, 309.6085947906515, 265.4874646531188, 291.11606352715245, 245.61898478406326, 239.46481499922072, 334.61958840607645, 275.3861034815317]\n",
            "[406.62288544232047, 350.39351957834924, 218.30384271186168, 354.63462349002145, 441.30551404075095, 420.04620414440666, 337.6532108572321, 370.2991478574313]\n",
            "[581.4298200072883, 573.8289754206959, 629.6868701949761, 258.40958026881617, 496.6279595887097, 489.116892501724, 560.1656355533173, 594.7354555975859]\n",
            "[553.4033169035758, 228.71773015063442, 648.0211241336477, 579.9803108672652, 377.809814440861, 228.71773015063442, 701.3164970145981, 383.81693229466515]\n"
          ]
        }
      ]
    },
    {
      "cell_type": "markdown",
      "source": [
        "C. End of Cleaning"
      ],
      "metadata": {
        "id": "VdQmIn-XYIs9"
      }
    },
    {
      "cell_type": "code",
      "source": [
        "df.dropna(inplace = True)\n",
        "df=df.drop(['Name','ID','Customer_ID','SSN'], axis=1)"
      ],
      "metadata": {
        "id": "NTROm-b9Rihs"
      },
      "execution_count": null,
      "outputs": []
    },
    {
      "cell_type": "markdown",
      "source": [
        "End Of Preprocessing"
      ],
      "metadata": {
        "id": "D1ZT-H_DZG-X"
      }
    },
    {
      "cell_type": "markdown",
      "source": [
        "# additional pre"
      ],
      "metadata": {
        "id": "BKKgyBP-oI9e"
      }
    },
    {
      "cell_type": "code",
      "source": [
        "scaler = StandardScaler()\n",
        "df1= scaler.fit_transform(df)\n",
        "df[df.columns] = pd.DataFrame(df1, columns=[df.columns])\n",
        "df2 = df.dropna()\n",
        "\n",
        "# Use the sample method to randomly select 15k rows\n",
        "df2 = df2.sample(n=15000, replace=True, random_state=42)"
      ],
      "metadata": {
        "id": "f2VeJiH5oKaD"
      },
      "execution_count": null,
      "outputs": []
    },
    {
      "cell_type": "markdown",
      "source": [
        "# k Means"
      ],
      "metadata": {
        "id": "k7ja-WfOHmOX"
      }
    },
    {
      "cell_type": "code",
      "source": [
        "def remove_values(test_data, remove_percent=0.2):\n",
        "    # Calculate the number of values to remove per row\n",
        "    num_values = int(test_data.shape[1] * remove_percent)\n",
        "    test_check = test_data.copy()\n",
        "    cells2=[]\n",
        "    indices = []\n",
        "    # Loop over each row and remove values at random\n",
        "    for i in range(len(test_data)):\n",
        "        # Randomly select the indices of the values to remove\n",
        "        indices_to_remove = np.random.choice(test_data.shape[1], size=num_values, replace=False)\n",
        "\n",
        "        # Set the selected values to remove_val\n",
        "        cells2.append(test_data.iloc[i, indices_to_remove].tolist())\n",
        "        combinations = [(i, elem) for elem in indices_to_remove]\n",
        "        indices.append(combinations)\n",
        "        test_data.iloc[i, indices_to_remove] = -1000\n",
        "    test_false = test_data.copy()\n",
        "\n",
        "    return test_data, indices, cells2,test_check,test_false"
      ],
      "metadata": {
        "id": "WgbEycVRVaXe"
      },
      "execution_count": null,
      "outputs": []
    },
    {
      "cell_type": "code",
      "source": [
        "# # Calculate the number of values to remove per row\n",
        "# num_values = int(test_data.shape[1] * 0.2)\n",
        "# cells2=[]\n",
        "# indices = []\n",
        "# # Loop over each row and remove values at random\n",
        "# for i in range(len(test_data)):\n",
        "#     # Randomly select the indices of the values to remove\n",
        "#     indices_to_remove = np.random.choice(test_data.shape[1], size=num_values, replace=False)\n",
        "    \n",
        "#     # Set the selected values to -1000\n",
        "#     cells2.append(test_data.iloc[i, indices_to_remove].tolist())\n",
        "#     combinations = [(i, elem) for elem in indices_to_remove]\n",
        "#     indices.append(combinations)\n",
        "#     test_data.iloc[i, indices_to_remove] = -1000\n"
      ],
      "metadata": {
        "id": "YfD_PJkBBB0W"
      },
      "execution_count": null,
      "outputs": []
    },
    {
      "cell_type": "code",
      "source": [
        "# optimal k\n",
        "from scipy.spatial.distance import cdist\n",
        "\n",
        "def optimal(data,k):\n",
        "  inertia = []\n",
        "  K = range(1, k)\n",
        "  for k in K:\n",
        "    kmeans = KMeans(n_clusters=k).fit(train_data)\n",
        "    inertia.append(sum(np.min(cdist(train_data, kmeans.cluster_centers_, 'euclidean'), axis=1)) / train_data.shape[0])\n",
        "  return np.argmin(inertia) + 1"
      ],
      "metadata": {
        "id": "6sAU3gIpIVNa"
      },
      "execution_count": null,
      "outputs": []
    },
    {
      "cell_type": "code",
      "source": [
        "def predict_cluster_centers(train_data, test_data, n_clusters=11):\n",
        "    # Fit KMeans to training data\n",
        "    kmeans = KMeans(n_clusters=n_clusters)\n",
        "    kmeans.fit(train_data)\n",
        "\n",
        "    # Identify rows in test data with missing values\n",
        "    mask = test_data.applymap(lambda x: x == -1000)\n",
        "    rows_with_value = test_data[mask.any(axis=1)]\n",
        "\n",
        "    # Predict cluster labels for rows with missing values\n",
        "    cluster_label = kmeans.predict(rows_with_value)\n",
        "\n",
        "    # Find the cluster center for each predicted label\n",
        "    cluster_center = kmeans.cluster_centers_[cluster_label]\n",
        "\n",
        "    return cluster_center"
      ],
      "metadata": {
        "id": "slNrtl7bXWdg"
      },
      "execution_count": null,
      "outputs": []
    },
    {
      "cell_type": "code",
      "source": [
        "# kmeans = KMeans(n_clusters=11, random_state=42)\n",
        "# kmeans.fit(train_data)\n",
        "# mask = test_data.applymap(lambda x: x == -1000)\n",
        "# rows_with_value = test_data[mask.any(axis=1)]\n",
        "# cluster_label = kmeans.predict(rows_with_value)\n",
        "# cluster_center = kmeans.cluster_centers_[cluster_label]\n",
        "\n"
      ],
      "metadata": {
        "id": "mQia1IkEp00z"
      },
      "execution_count": null,
      "outputs": []
    },
    {
      "cell_type": "code",
      "source": [
        "def flatten(lst):\n",
        "    result = []\n",
        "    for elem in lst:\n",
        "        if isinstance(elem, list):\n",
        "            result.extend(flatten(elem))\n",
        "        else:\n",
        "            result.append(elem)\n",
        "    return result"
      ],
      "metadata": {
        "id": "GyA041xhkngk"
      },
      "execution_count": null,
      "outputs": []
    },
    {
      "cell_type": "code",
      "source": [
        "def fill_missing_values(test_data, flat_list, cluster_center,test_check):\n",
        "    # Fill in missing values with cluster centers\n",
        "    for i in flat_list:\n",
        "        test_data.iloc[i[0], i[1]] = cluster_center[i[0], i[1]]\n",
        "\n",
        "    # Extract filled-in values from test data\n",
        "    cells = np.array([test_data.iloc[i[0], i[1]] for i in flat_list])\n",
        "    cells2 = np.array([test_check.iloc[i[0], i[1]] for i in flat_list])\n",
        "    return cells, cells2,test_data"
      ],
      "metadata": {
        "id": "NyleEACQuJtY"
      },
      "execution_count": null,
      "outputs": []
    },
    {
      "cell_type": "code",
      "source": [
        "def mean_square_error(array1, array2):\n",
        "    diff = array1 - array2 \n",
        "    sq_diff = diff ** 2\n",
        "    mse = np.mean(sq_diff)\n",
        "    return mse"
      ],
      "metadata": {
        "id": "oC5NwBGKP_B5"
      },
      "execution_count": null,
      "outputs": []
    },
    {
      "cell_type": "markdown",
      "source": [
        "# Run K means"
      ],
      "metadata": {
        "id": "ObivedSYbcY4"
      }
    },
    {
      "cell_type": "code",
      "source": [
        "def run_kmeans(df, test_size, remove_ratio, k):\n",
        "    # Split the data into train and test sets\n",
        "    train_data, test_data = train_test_split(df, test_size=test_size)\n",
        "    \n",
        "\n",
        "    # Remove values from test_data\n",
        "    test_data, indices, cells2, test_check, test_false = remove_values(test_data, remove_ratio)\n",
        "\n",
        "    # Predict cluster centers\n",
        "    cluster_center = predict_cluster_centers(train_data, test_data, k)\n",
        "\n",
        "    # Use the flatten function to extract all elements\n",
        "    flat_list = flatten(indices)\n",
        "    cells2 = flatten(cells2)\n",
        "\n",
        "    # Fill missing values\n",
        "    cells, cells2, test_data = fill_missing_values(test_data, flat_list, cluster_center,test_check)\n",
        "\n",
        "    # Calculate mean squared error\n",
        "    mse = mean_square_error(cells[:2], cells2[:2])\n",
        "\n",
        "    return mse"
      ],
      "metadata": {
        "id": "XRJP7OIy4xry"
      },
      "execution_count": null,
      "outputs": []
    },
    {
      "cell_type": "code",
      "source": [
        "# train_data, test_data = train_test_split(df2, test_size=0.010028883183568678)\n",
        "# test_data, indices, cells2,test_check,test_false = remove_values(test_data,0.2)\n",
        "# cluster_center = predict_cluster_centers(train_data,test_data,11)\n",
        "# # use the flatten function to extract all elements\n",
        "# flat_list = flatten(indices)\n",
        "# cells2 = flatten(cells2)\n",
        "# cells, cells2,test_data = fill_missing_values(test_data,flat_list,cluster_center)\n",
        "# mean_square_error(cells[:2],cells2[:2])"
      ],
      "metadata": {
        "id": "24CaQtrDYzBG"
      },
      "execution_count": null,
      "outputs": []
    },
    {
      "cell_type": "markdown",
      "source": [
        "# opt\n"
      ],
      "metadata": {
        "id": "FwnrZsvW4TVi"
      }
    },
    {
      "cell_type": "markdown",
      "source": [
        "# k means mean"
      ],
      "metadata": {
        "id": "dBSvKlrhKsNP"
      }
    },
    {
      "cell_type": "code",
      "source": [
        "def split_and_shuffle_data(df, test_size=0.010028883183568678):\n",
        "    # Split the data into training and testing sets\n",
        "    train_d, test_d = train_test_split(df, test_size=test_size)\n",
        "    \n",
        "    # Shuffle the training data\n",
        "    shuffled = train_d.sample(frac=1)\n",
        "    \n",
        "    # Split the shuffled data into four subsets\n",
        "    result = np.array_split(shuffled, 4)\n",
        "    \n",
        "    # Return the four subsets\n",
        "    return result[0], result[1], result[2], result[3] , test_d"
      ],
      "metadata": {
        "id": "lXNNstqeZpf5"
      },
      "execution_count": null,
      "outputs": []
    },
    {
      "cell_type": "code",
      "source": [
        "def kmeanfunc(data):\n",
        "  #opt_k = optimal(data,k)\n",
        "  kmeans = KMeans(n_clusters=8, random_state=42)\n",
        "  kmeans.fit(data)\n",
        "  return kmeans.cluster_centers_"
      ],
      "metadata": {
        "id": "TGHjsgGbVVZn"
      },
      "execution_count": null,
      "outputs": []
    },
    {
      "cell_type": "code",
      "source": [
        "def stack_arrays_vertically(arr1, arr2, arr3, arr4):\n",
        "    # Stack the arrays vertically using numpy.stack()\n",
        "    stacked_arr = np.concatenate((arr1, arr2, arr3, arr4), axis=0)\n",
        "    \n",
        "    # Convert the stacked array to a pandas DataFrame\n",
        "    stacked_df = pd.DataFrame(stacked_arr)\n",
        "    \n",
        "    # Return the stacked DataFrame\n",
        "    return stacked_df"
      ],
      "metadata": {
        "id": "F35S106EcXly"
      },
      "execution_count": null,
      "outputs": []
    },
    {
      "cell_type": "markdown",
      "source": [
        "# Run K means mean"
      ],
      "metadata": {
        "id": "iACjVgbVeGeq"
      }
    },
    {
      "cell_type": "code",
      "source": [
        "def run_kmeans_mean(df, split_ratio, remove_ratio, k):\n",
        "    # Split and shuffle data\n",
        "    arr1, arr2, arr3, arr4, test_data = split_and_shuffle_data(df, split_ratio)\n",
        "\n",
        "    # Apply k-means function to each split\n",
        "    arr1 = kmeanfunc(arr1)\n",
        "    arr2 = kmeanfunc(arr2)\n",
        "    arr3 = kmeanfunc(arr3)\n",
        "    arr4 = kmeanfunc(arr4)\n",
        "\n",
        "    # Stack arrays vertically\n",
        "    stacked_df = stack_arrays_vertically(arr1, arr2, arr3, arr4)\n",
        "\n",
        "    # Remove values from test_data\n",
        "    test_data, indices, cells2, test_check, test_false = remove_values(test_data, remove_ratio)\n",
        "\n",
        "    # Predict cluster centers\n",
        "    cluster_center = predict_cluster_centers(stacked_df, test_data, k)\n",
        "\n",
        "    # Use the flatten function to extract all elements\n",
        "    flat_list = flatten(indices[:1000])\n",
        "    cells2 = flatten(cells2[:1000])\n",
        "\n",
        "    # Fill missing values\n",
        "    cells, cells2, test_data = fill_missing_values(test_data, flat_list, cluster_center,test_check)\n",
        "\n",
        "    # Calculate mean squared error\n",
        "    mse = mean_square_error(cells[:2], cells2[:2])\n",
        "\n",
        "    return mse"
      ],
      "metadata": {
        "id": "uM5tRNt64TPu"
      },
      "execution_count": null,
      "outputs": []
    },
    {
      "cell_type": "code",
      "source": [
        "# arr1,arr2,arr3,arr4,test_data= split_and_shuffle_data(df2,0.2)\n",
        "# arr1 = kmeanfunc(arr1)\n",
        "# arr2 = kmeanfunc(arr2)\n",
        "# arr3 = kmeanfunc(arr3)\n",
        "# arr4 = kmeanfunc(arr4)\n",
        "# stacked_df = stack_arrays_vertically(arr1, arr2, arr3, arr4)\n",
        "# test_data, indices, cells2,test_check,test_false = remove_values(test_data,0.2)\n",
        "# cluster_center = predict_cluster_centers(stacked_df,test_data,8)\n",
        "# # use the flatten function to extract all elements\n",
        "# flat_list = flatten(indices[:1000])\n",
        "# cells2 = flatten(cells2[:1000])\n",
        "# cells, cells2,test_data = fill_missing_values(test_data,flat_list,cluster_center)\n",
        "# mean_square_error(cells[:2],cells2[:2])"
      ],
      "metadata": {
        "id": "kIbBxZyTcIGU"
      },
      "execution_count": null,
      "outputs": []
    },
    {
      "cell_type": "markdown",
      "source": [
        "# k means center"
      ],
      "metadata": {
        "id": "9z-fNr0v4iDL"
      }
    },
    {
      "cell_type": "code",
      "source": [
        "def euclidean_distance(p1, p2):\n",
        "    return np.sqrt(np.sum((p1 - p2) ** 2))\n",
        "\n",
        "\n",
        "def k_centers(df, k):\n",
        "    points = df.to_numpy()\n",
        "    centers = [points[np.random.randint(len(points))]]  # Initialize with a random point as the first center\n",
        "    while len(centers) < k:\n",
        "        max_distance = -1\n",
        "        max_distance_point = None\n",
        "        \n",
        "        for point in points:\n",
        "            _, distance = find_closest_center(point, centers)\n",
        "            if distance > max_distance:\n",
        "                max_distance = distance\n",
        "                max_distance_point = point\n",
        "                \n",
        "        centers.append(max_distance_point)\n",
        "        \n",
        "    return np.array(centers)\n",
        "\n",
        "def find_closest_center(point, centers):\n",
        "    min_distance = float('inf')\n",
        "    closest_center = None\n",
        "    \n",
        "    for center in centers:\n",
        "        if center is not None:\n",
        "            distance = euclidean_distance(point, center)\n",
        "            if distance < min_distance:\n",
        "                min_distance = distance\n",
        "                closest_center = center\n",
        "                \n",
        "    return closest_center, min_distance\n",
        "\n",
        "def mse_before_after_replacement(df, centers,remove_percent=0.2):\n",
        "    original_values = []\n",
        "    replaced_values = []\n",
        "    indices = []\n",
        "    num_values = int(df.shape[1] * remove_percent)\n",
        "\n",
        "    for i in range(len(df)):\n",
        "        # Randomly select the indices of the values to remove\n",
        "        indices_to_remove = np.random.choice(df.shape[1], size=num_values, replace=False)\n",
        "\n",
        "        # Set the selected values to remove_val\n",
        "        combinations = [(i, elem) for elem in indices_to_remove]\n",
        "        indices.append(combinations)\n",
        "    indices = flatten(indices)\n",
        "    for idx in indices:\n",
        "        row, col = idx\n",
        "        original_value = df.iloc[row, col]\n",
        "        \n",
        "        closest_center, _ = find_closest_center(df.iloc[row].to_numpy(), centers)\n",
        "        \n",
        "        if closest_center is not None:\n",
        "            replaced_value = closest_center[col]\n",
        "            replaced_values.append(replaced_value)\n",
        "            original_values.append(original_value)\n",
        "            df.at[row, df.columns[col]] = replaced_value\n",
        "    mse = np.mean((np.array(original_values) - np.array(replaced_values)) ** 2)\n",
        "    return mse\n",
        "\n"
      ],
      "metadata": {
        "id": "rQUvXLAqizLr"
      },
      "execution_count": null,
      "outputs": []
    },
    {
      "cell_type": "code",
      "source": [
        "# import random;\n",
        "# import time\n",
        "# def greedy(vertexes, k):\n",
        "# \ts = [];\n",
        "# \tpick = randomPick(vertexes);\n",
        "# \ts.append(pick)\n",
        "# \twhile len(s) < k:\n",
        "# \t\tmax = distance(vertexes, s)\n",
        "# \t\tvertexes.remove(max)\n",
        "# \t\ts.append(max)\n",
        "# \treturn s"
      ],
      "metadata": {
        "id": "7UnRsbu3gKhr"
      },
      "execution_count": null,
      "outputs": []
    },
    {
      "cell_type": "code",
      "source": [
        "# def randomPick(vertexes):\n",
        "# \t# rndm plz ;)\n",
        "# \tpick = random.sample(vertexes, 1)[0]\n",
        "# \tvertexes.remove(pick)\n",
        "# \treturn pick"
      ],
      "metadata": {
        "id": "Zmo_4x6WgTQh"
      },
      "execution_count": null,
      "outputs": []
    },
    {
      "cell_type": "code",
      "source": [
        "# def distance(vertexes, picked):\n",
        "# \tmin = np.inf \n",
        "# \tmin_v = None\n",
        "# \treal_max = 0\n",
        "# \treal_max_v = None\n",
        "# \tfor v in vertexes:\n",
        "# \t\tmin = np.inf\n",
        "# \t\tfor p in picked:\t\n",
        "# \t\t\td = np.sqrt((v.x - p.x)**2 + (v.y - p.y)**2)\n",
        "# \t\t\tprint(\"current min %s vs %d\" % (min, d))\n",
        "# \t\t\tif d < min:\n",
        "# \t\t\t\tmin = d\n",
        "# \t\t\t\tmin_v = v\n",
        "# \t\tif min > real_max:\n",
        "# \t\t\treal_max = min \n",
        "# \t\t\treal_max_v = min_v\n",
        "# \treturn real_max_v"
      ],
      "metadata": {
        "id": "yTbOLKgDgXsC"
      },
      "execution_count": null,
      "outputs": []
    },
    {
      "cell_type": "code",
      "source": [
        "# def randomVertex(min, max):\n",
        "# \treturn Vertex(random.randint(min, max), random.randint(min, max))"
      ],
      "metadata": {
        "id": "8Xd7_dCagaHp"
      },
      "execution_count": null,
      "outputs": []
    },
    {
      "cell_type": "code",
      "source": [
        "# class Vertex:\n",
        "# \tdef __init__(self, x, y):\n",
        "# \t\tself.x = x\n",
        "# \t\tself.y = y\n",
        "\n",
        "# \tdef __str__(self):\n",
        "# \t\treturn \"(%s,%s)\" % (self.x, self.y)\n",
        "\n",
        "# \tdef __repr__(self):\n",
        "#                 return \"(%s,%s)\" % (self.x, self.y)\n",
        "\n",
        "# \tdef points(self):\n",
        "# \t\treturn [self.x, self.y]\n"
      ],
      "metadata": {
        "id": "p7Gfe6wsghQP"
      },
      "execution_count": null,
      "outputs": []
    },
    {
      "cell_type": "code",
      "source": [
        "# def main():\n",
        "#     min = 0\n",
        "#     max = 200\n",
        "#     vertexes = set()\n",
        "#     for i in range(0, 100):\n",
        "#         vertexes.add(randomVertex(min, max))\n",
        "#     greed = greedy(vertexes, 10)\n",
        "#     return greed"
      ],
      "metadata": {
        "id": "jTAhaAINbSIQ"
      },
      "execution_count": null,
      "outputs": []
    },
    {
      "cell_type": "markdown",
      "source": [
        "# Run K means center"
      ],
      "metadata": {
        "id": "jILtYFltem0O"
      }
    },
    {
      "cell_type": "code",
      "source": [
        "def run_kmeans_center(df, split_ratio, k, remove_ratio):\n",
        "    # Split and shuffle data\n",
        "    arr1, arr2, arr3, arr4, test_data = split_and_shuffle_data(df, split_ratio)\n",
        "\n",
        "    # Apply k-means function to each split\n",
        "    arr1 = kmeanfunc(arr1)\n",
        "    arr2 = kmeanfunc(arr2)\n",
        "    arr3 = kmeanfunc(arr3)\n",
        "    arr4 = kmeanfunc(arr4)\n",
        "\n",
        "    # Stack arrays vertically\n",
        "    stacked_df = stack_arrays_vertically(arr1, arr2, arr3, arr4)\n",
        "\n",
        "    # Apply k-centers algorithm\n",
        "    cluster_center = k_centers(stacked_df, k)\n",
        "\n",
        "    # Calculate mean squared error before and after replacement\n",
        "    mse = mse_before_after_replacement(test_data, cluster_center, remove_ratio)\n",
        "\n",
        "    return mse\n"
      ],
      "metadata": {
        "id": "LaMuny5N6Qkf"
      },
      "execution_count": null,
      "outputs": []
    },
    {
      "cell_type": "code",
      "source": [
        "# arr1,arr2,arr3,arr4,test_data = split_and_shuffle_data(df2,0.010028883183568678)\n",
        "# arr1 = kmeanfunc(arr1)\n",
        "# arr2 = kmeanfunc(arr2)\n",
        "# arr3 = kmeanfunc(arr3)\n",
        "# arr4 = kmeanfunc(arr4)\n",
        "# stacked_df = stack_arrays_vertically(arr1, arr2, arr3, arr4)\n",
        "# cluster_center = k_centers(stacked_df, 50)\n",
        "# mse_before_after_replacement(test_data, cluster_center, 0.2)"
      ],
      "metadata": {
        "id": "hYrfqKE9hvLb"
      },
      "execution_count": null,
      "outputs": []
    },
    {
      "cell_type": "markdown",
      "source": [
        "# RUN K centers mean\n"
      ],
      "metadata": {
        "id": "UM37lSkbz96f"
      }
    },
    {
      "cell_type": "code",
      "source": [
        "def run_kcenters_mean(df, split_ratio, k, remove_ratio):\n",
        "    # Split and shuffle data\n",
        "    arr1, arr2, arr3, arr4, test_data = split_and_shuffle_data(df, split_ratio)\n",
        "\n",
        "    # Apply k-centers algorithm to each split\n",
        "    arr1 = k_centers(arr1, k)\n",
        "    arr2 = k_centers(arr2, k)\n",
        "    arr3 = k_centers(arr3, k)\n",
        "    arr4 = k_centers(arr4, k)\n",
        "\n",
        "    # Stack arrays vertically\n",
        "    stacked_df = stack_arrays_vertically(arr1, arr2, arr3, arr4)\n",
        "\n",
        "    # Apply k-means function\n",
        "    cluster_center = kmeanfunc(stacked_df)\n",
        "\n",
        "    # Calculate mean squared error before and after replacement\n",
        "    mse = mse_before_after_replacement(test_data, cluster_center, remove_ratio)\n",
        "\n",
        "    return mse"
      ],
      "metadata": {
        "id": "v0S8kFoX6xAQ"
      },
      "execution_count": null,
      "outputs": []
    },
    {
      "cell_type": "code",
      "source": [
        "# arr1,arr2,arr3,arr4,test_data = split_and_shuffle_data(df2,0.010028883183568678)\n",
        "# arr1 = k_centers(arr1,10)\n",
        "# arr2 = k_centers(arr2,10)\n",
        "# arr3 = k_centers(arr3,10)\n",
        "# arr4 = k_centers(arr4,10)\n",
        "# stacked_df = stack_arrays_vertically(arr1, arr2, arr3, arr4)\n",
        "# cluster_center = kmeanfunc(stacked_df)\n",
        "# mse_before_after_replacement(test_data, cluster_center, 0.2)"
      ],
      "metadata": {
        "id": "6CtyVXtZz8Sd"
      },
      "execution_count": null,
      "outputs": []
    },
    {
      "cell_type": "markdown",
      "source": [
        "# Run K centers center"
      ],
      "metadata": {
        "id": "INAioOK001Pe"
      }
    },
    {
      "cell_type": "code",
      "source": [
        "def run_kcenters_center(df, split_ratio, k, remove_ratio):\n",
        "    # Split and shuffle data\n",
        "    arr1, arr2, arr3, arr4, test_data = split_and_shuffle_data(df, split_ratio)\n",
        "\n",
        "    # Apply k-centers algorithm to each split\n",
        "    arr1 = k_centers(arr1, k)\n",
        "    arr2 = k_centers(arr2, k)\n",
        "    arr3 = k_centers(arr3, k)\n",
        "    arr4 = k_centers(arr4, k)\n",
        "\n",
        "    # Stack arrays vertically\n",
        "    stacked_df = stack_arrays_vertically(arr1, arr2, arr3, arr4)\n",
        "\n",
        "    # Apply k-centers algorithm to stacked_df\n",
        "    cluster_center = k_centers(stacked_df, k)\n",
        "\n",
        "    # Calculate mean squared error before and after replacement\n",
        "    mse = mse_before_after_replacement(test_data, cluster_center, remove_ratio)\n",
        "\n",
        "    return mse\n"
      ],
      "metadata": {
        "id": "F587hOat7M47"
      },
      "execution_count": null,
      "outputs": []
    },
    {
      "cell_type": "code",
      "source": [
        "# arr1,arr2,arr3,arr4,test_data = split_and_shuffle_data(df2,0.010028883183568678)\n",
        "# arr1 = k_centers(arr1,10)\n",
        "# arr2 = k_centers(arr2,10)\n",
        "# arr3 = k_centers(arr3,10)\n",
        "# arr4 = k_centers(arr4,10)\n",
        "# stacked_df = stack_arrays_vertically(arr1, arr2, arr3, arr4)\n",
        "# cluster_center = k_centers(stacked_df,10)\n",
        "# mse_before_after_replacement(test_data, cluster_center, 0.2)"
      ],
      "metadata": {
        "id": "9qeyPMv306fj"
      },
      "execution_count": null,
      "outputs": []
    },
    {
      "cell_type": "markdown",
      "source": [
        "# graph"
      ],
      "metadata": {
        "id": "HLlP0X-t7GH7"
      }
    },
    {
      "cell_type": "code",
      "source": [
        "# kmeans20 = []\n",
        "# kmeans40 = []\n",
        "# kmeans60 = []\n",
        "# kmeans80 = []\n",
        "\n",
        "# kmeansmean20 = []\n",
        "# kmeansmean40 = []\n",
        "# kmeansmean60 = []\n",
        "# kmeansmean80 = []\n",
        "\n",
        "# kmeanscenter20 = []\n",
        "# kmeanscenter40 = []\n",
        "# kmeanscenter60 = []\n",
        "# kmeanscenter80 = []\n",
        "\n",
        "# kcentercenter20 = []\n",
        "# kcentercenter40 = []\n",
        "# kcentercenter60 = []\n",
        "# kcentercenter80 = []\n",
        "\n",
        "# kcentermean20 = []\n",
        "# kcentermean40 = []\n",
        "# kcentermean60 = []\n",
        "# kcentermean80 = []"
      ],
      "metadata": {
        "id": "wTrpl6ZK-nBO"
      },
      "execution_count": null,
      "outputs": []
    },
    {
      "cell_type": "code",
      "source": [
        "for i in range(22):\n",
        "  kmeans20.append(run_kmeans(df2, 0.15, 0.2, 6))\n",
        "  kmeans40.append(run_kmeans(df2, 0.15, 0.4, 6))\n",
        "  kmeans60.append(run_kmeans(df2, 0.15, 0.6, 6))\n",
        "  kmeans80.append(run_kmeans(df2, 0.15, 0.8, 6))"
      ],
      "metadata": {
        "id": "G50Ncpiq3_pO"
      },
      "execution_count": null,
      "outputs": []
    },
    {
      "cell_type": "code",
      "source": [
        "for i in range(22):\n",
        "  kmeansmean20.append(run_kmeans_mean(df2, 0.15, 0.2, 6))\n",
        "  kmeansmean40.append(run_kmeans_mean(df2, 0.15, 0.4, 6))\n",
        "  kmeansmean60.append(run_kmeans_mean(df2, 0.15, 0.6, 6))\n",
        "  kmeansmean80.append(run_kmeans_mean(df2, 0.15, 0.8, 6))"
      ],
      "metadata": {
        "id": "3NPpMsiZ_ESe"
      },
      "execution_count": null,
      "outputs": []
    },
    {
      "cell_type": "code",
      "source": [
        "for i in range(22):\n",
        "  kmeanscenter20.append(run_kmeans_center(df2, 0.15, 6,0.2))\n",
        "  kmeanscenter40.append(run_kmeans_center(df2, 0.15, 6,0.4))\n",
        "  kmeanscenter60.append(run_kmeans_center(df2, 0.15, 6,0.6))\n",
        "  kmeanscenter80.append(run_kmeans_center(df2, 0.15, 6,0.8))"
      ],
      "metadata": {
        "id": "9zapbNwo_fEx"
      },
      "execution_count": null,
      "outputs": []
    },
    {
      "cell_type": "code",
      "source": [
        "for i in range(6):\n",
        "  kcentercenter20.append(run_kcenters_center(df2, 0.15, 6,0.2))\n",
        "  kcentercenter40.append(run_kcenters_center(df2, 0.15, 6,0.4))\n",
        "  kcentercenter60.append(run_kcenters_center(df2, 0.15, 6,0.6))\n",
        "  kcentercenter80.append(run_kcenters_center(df2, 0.15, 6,0.8))"
      ],
      "metadata": {
        "id": "LzD88lZ8_10D"
      },
      "execution_count": null,
      "outputs": []
    },
    {
      "cell_type": "code",
      "source": [
        "for i in range(10):\n",
        "  kcentermean20.append(run_kcenters_mean(df2, 0.15, 6,0.2))\n",
        "  kcentermean40.append(run_kcenters_mean(df2, 0.15, 6,0.4))\n",
        "  kcentermean60.append(run_kcenters_mean(df2, 0.15, 6,0.6))\n",
        "  kcentermean80.append(run_kcenters_mean(df2, 0.15, 6,0.8))"
      ],
      "metadata": {
        "id": "fk3hU7SVAQ06"
      },
      "execution_count": null,
      "outputs": []
    },
    {
      "cell_type": "code",
      "source": [
        "# Assuming your 20 lists are in a variable called `lists`\n",
        "lists = []\n",
        "lists.append(kmeans20)\n",
        "lists.append(kmeans40)\n",
        "lists.append(kmeans60)\n",
        "lists.append(kmeans80)\n",
        "lists.append(kmeansmean20)\n",
        "lists.append(kmeansmean40)\n",
        "lists.append(kmeansmean60)\n",
        "lists.append(kmeansmean80)\n",
        "lists.append(kmeanscenter20)\n",
        "lists.append(kmeanscenter40)\n",
        "lists.append(kmeanscenter60)\n",
        "lists.append(kmeanscenter80)\n",
        "lists.append(kcentercenter20)\n",
        "lists.append(kcentercenter40)\n",
        "lists.append(kcentercenter60)\n",
        "lists.append(kcentercenter80)\n",
        "lists.append(kcentermean20)\n",
        "lists.append(kcentermean40)\n",
        "lists.append(kcentermean60)\n",
        "lists.append(kcentermean80)"
      ],
      "metadata": {
        "id": "pTwthu4Z_D-1"
      },
      "execution_count": null,
      "outputs": []
    },
    {
      "cell_type": "code",
      "source": [
        "import matplotlib.pyplot as plt\n",
        "from scipy import stats\n",
        "\n",
        "\n",
        "def remove_outliers(data):\n",
        "    z_scores = np.abs(stats.zscore(data))\n",
        "    return data[(z_scores < 2)]\n",
        "\n",
        "# Remove outliers and calculate mean and sd for each list\n",
        "means = []\n",
        "sds = []\n",
        "i = 0\n",
        "for data in lists:\n",
        "    i = i+1\n",
        "    data_array = np.array(data)  # Convert the list to a NumPy array\n",
        "    filtered_data = remove_outliers(data_array)\n",
        "    means.append(np.mean(filtered_data))\n",
        "    sds.append(np.std(filtered_data))\n",
        "\n",
        "# Group every 4 means in one array\n",
        "grouped_means = [means[i:i+4] for i in range(0, len(means), 4)]\n",
        "grouped_sds = [sds[i:i+4] for i in range(0, len(sds), 4)]\n",
        "\n",
        "# Plot the 5 arrays in one graph\n",
        "x_ticks = [20, 40, 60, 80]\n",
        "group_names = [\"K-Means\", \"K-Means Mean\", \"K-Means Center\", \"K-Centers Center\", \"K-Centers Mean\"]\n",
        "\n",
        "for i, (group, name) in enumerate(zip(grouped_means, group_names)):\n",
        "    plt.plot(x_ticks, group, label=name)\n",
        "\n",
        "plt.xlabel(\"Percentage of missing data\")\n",
        "plt.ylabel(\"Mean Squared Error\")\n",
        "plt.legend()\n",
        "plt.show()\n"
      ],
      "metadata": {
        "colab": {
          "base_uri": "https://localhost:8080/",
          "height": 449
        },
        "id": "vUYIOtGB-5NS",
        "outputId": "887217c3-6bed-456c-b969-73cd7dd883eb"
      },
      "execution_count": null,
      "outputs": [
        {
          "output_type": "display_data",
          "data": {
            "text/plain": [
              "<Figure size 640x480 with 1 Axes>"
            ],
            "image/png": "[encoded data removed]"
          },
          "metadata": {}
        }
      ]
    },
    {
      "cell_type": "code",
      "source": [
        "for i, (group, name) in enumerate(zip(grouped_sds, group_names)):\n",
        "    plt.plot(x_ticks, group, label=name)\n",
        "plt.xlabel(\"Percentage of missing data\")\n",
        "plt.ylabel(\"Standard Deviation\")\n",
        "plt.legend()\n",
        "plt.show()"
      ],
      "metadata": {
        "colab": {
          "base_uri": "https://localhost:8080/",
          "height": 449
        },
        "id": "YJ33-AGwVoQe",
        "outputId": "eca7255b-c5a9-4204-b9cd-c072bf471ea1"
      },
      "execution_count": null,
      "outputs": [
        {
          "output_type": "display_data",
          "data": {
            "text/plain": [
              "<Figure size 640x480 with 1 Axes>"
            ],
            "image/png": "[encoded data removed]"
          },
          "metadata": {}
        }
      ]
    },
    {
      "cell_type": "code",
      "source": [
        "df = pd.DataFrame(lists).transpose()\n",
        "\n",
        "# Name the columns\n",
        "column_names = [f\"List {i+1}\" for i in range(len(lists))]\n",
        "df.columns = column_names\n",
        "\n",
        "# Export the DataFrame to an Excel file\n",
        "excel_file = \"K-Means K-Means Mean K-Means Center K-Centers Center K-Centers Mean.xlsx\"\n",
        "df.to_excel(excel_file, engine='openpyxl', index=False)\n",
        "\n",
        "# To download the file in Google Colab\n",
        "from google.colab import files\n",
        "files.download(excel_file)"
      ],
      "metadata": {
        "colab": {
          "base_uri": "https://localhost:8080/",
          "height": 17
        },
        "id": "iHa3uxERWFvE",
        "outputId": "0a359093-305a-4ddd-c9f5-b2728646b6fa"
      },
      "execution_count": null,
      "outputs": [
        {
          "output_type": "display_data",
          "data": {
            "text/plain": [
              "<IPython.core.display.Javascript object>"
            ],
            "application/javascript": [
              "\n",
              "    async function download(id, filename, size) {\n",
              "      if (!google.colab.kernel.accessAllowed) {\n",
              "        return;\n",
              "      }\n",
              "      const div = document.createElement('div');\n",
              "      const label = document.createElement('label');\n",
              "      label.textContent = `Downloading \"${filename}\": `;\n",
              "      div.appendChild(label);\n",
              "      const progress = document.createElement('progress');\n",
              "      progress.max = size;\n",
              "      div.appendChild(progress);\n",
              "      document.body.appendChild(div);\n",
              "\n",
              "      const buffers = [];\n",
              "      let downloaded = 0;\n",
              "\n",
              "      const channel = await google.colab.kernel.comms.open(id);\n",
              "      // Send a message to notify the kernel that we're ready.\n",
              "      channel.send({})\n",
              "\n",
              "      for await (const message of channel.messages) {\n",
              "        // Send a message to notify the kernel that we're ready.\n",
              "        channel.send({})\n",
              "        if (message.buffers) {\n",
              "          for (const buffer of message.buffers) {\n",
              "            buffers.push(buffer);\n",
              "            downloaded += buffer.byteLength;\n",
              "            progress.value = downloaded;\n",
              "          }\n",
              "        }\n",
              "      }\n",
              "      const blob = new Blob(buffers, {type: 'application/binary'});\n",
              "      const a = document.createElement('a');\n",
              "      a.href = window.URL.createObjectURL(blob);\n",
              "      a.download = filename;\n",
              "      div.appendChild(a);\n",
              "      a.click();\n",
              "      div.remove();\n",
              "    }\n",
              "  "
            ]
          },
          "metadata": {}
        },
        {
          "output_type": "display_data",
          "data": {
            "text/plain": [
              "<IPython.core.display.Javascript object>"
            ],
            "application/javascript": [
              "download(\"download_c4d7373e-c829-487d-a284-b9d778df34b1\", \"K-Means K-Means Mean K-Means Center K-Centers Center K-Centers Mean.xlsx\", 10005)"
            ]
          },
          "metadata": {}
        }
      ]
    },
    {
      "cell_type": "code",
      "source": [
        "df2.shape"
      ],
      "metadata": {
        "colab": {
          "base_uri": "https://localhost:8080/"
        },
        "id": "5-JZltyiXeJV",
        "outputId": "f03faf3c-02a7-4f11-b3ae-0912ad5ae8b2"
      },
      "execution_count": null,
      "outputs": [
        {
          "output_type": "execute_result",
          "data": {
            "text/plain": [
              "(99712, 24)"
            ]
          },
          "metadata": {},
          "execution_count": 135
        }
      ]
    }
  ]
}